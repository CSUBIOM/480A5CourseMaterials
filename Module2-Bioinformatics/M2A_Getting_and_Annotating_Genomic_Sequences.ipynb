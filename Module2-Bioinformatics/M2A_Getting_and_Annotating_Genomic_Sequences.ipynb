{
 "cells": [
  {
   "cell_type": "markdown",
   "id": "90c32b4b-abb4-431a-90c2-4ab0bcb71d3d",
   "metadata": {},
   "source": [
    "<html>\n",
    "    <summary></summary>\n",
    "         <div> <p></p> </div>\n",
    "         <div style=\"font-size: 20px; width: 800px;\"> \n",
    "              <h1>\n",
    "               <left>Downloading and Annotating Genomic Sequences</left>\n",
    "              </h1>\n",
    "              <p><left>============================================================================</left> </p>\n",
    "<pre>Course: BIOM/CBE 480A5, Spring 2025\n",
    "Instructor: Brian Munsky\n",
    "Contact Info: munsky@colostate.edu\n",
    "</pre>\n",
    "         </div>\n",
    "    </p>\n",
    "\n",
    "</html>\n",
    "\n",
    "<details>\n",
    "  <summary>Copyright info</summary>\n",
    "\n",
    "```\n",
    "Copyright 2024 Brian Munsky\n",
    "\n",
    "Redistribution and use in source and binary forms, with or without modification, are permitted provided that the following conditions are met:\n",
    "\n",
    "1. Redistributions of source code must retain the above copyright notice, this list of conditions and the following disclaimer.\n",
    "\n",
    "2. Redistributions in binary form must reproduce the above copyright notice, this list of conditions and the following disclaimer in the documentation and/or other materials provided with the distribution.\n",
    "\n",
    "3. Neither the name of the copyright holder nor the names of its contributors may be used to endorse or promote products derived from this software without specific prior written permission.\n",
    "\n",
    "THIS SOFTWARE IS PROVIDED BY THE COPYRIGHT HOLDERS AND CONTRIBUTORS \"AS IS\" AND ANY EXPRESS OR IMPLIED WARRANTIES, INCLUDING, BUT NOT LIMITED TO, THE IMPLIED WARRANTIES OF MERCHANTABILITY AND FITNESS FOR A PARTICULAR PURPOSE ARE DISCLAIMED. IN NO EVENT SHALL THE COPYRIGHT HOLDER OR CONTRIBUTORS BE LIABLE FOR ANY DIRECT, INDIRECT, INCIDENTAL, SPECIAL, EXEMPLARY, OR CONSEQUENTIAL DAMAGES (INCLUDING, BUT NOT LIMITED TO, PROCUREMENT OF SUBSTITUTE GOODS OR SERVICES; LOSS OF USE, DATA, OR PROFITS; OR BUSINESS INTERRUPTION) HOWEVER CAUSED AND ON ANY THEORY OF LIABILITY, WHETHER IN CONTRACT, STRICT LIABILITY, OR TORT (INCLUDING NEGLIGENCE OR OTHERWISE) ARISING IN ANY WAY OUT OF THE USE OF THIS SOFTWARE, EVEN IF ADVISED OF THE POSSIBILITY OF SUCH DAMAGE.\n",
    "```\n",
    "<details>\n",
    "\n"
   ]
  },
  {
   "cell_type": "markdown",
   "id": "bda36f7b",
   "metadata": {},
   "source": [
    "# Learning Objectives\n",
    "In this lesson, we are going to use some common sequence manipulation and search tools to learn about the DNA, RNA and proteins related to the Corona Virus. After completing this lesson, you will be able to:\n",
    "\n",
    "* Describe the meaning and use of ```accession numbers``` to identify biological data sets.\n",
    "* Describe and use Python tools to acquire genomic data from online ```repositories```\n",
    "* Find and describe basic information that is commonly used to ```annotate``` genetic sequences\n",
    "* Find and analyze ```open reading frames``` in DNA and RNA sequences\n",
    "* ```Translate``` between DNA, cDNA, RNA and protein sequences\n",
    "* Find and use different software packages to ```analyze``` biological sequence data\n",
    "* Access online electronic information and primary literature to gain more information about specific biological sequences and data\n"
   ]
  },
  {
   "cell_type": "markdown",
   "id": "d46d4ed7",
   "metadata": {},
   "source": [
    "# 1) Downloading genomic data from an online database\n",
    "\n",
    "Before we can analyze any given sequence data set, the first step is always going to be to obtain the data!\n",
    "\n",
    "In this notebook, we are goin to focus in on a specific example, namely, the corona virus.\n",
    "\n",
    "Our first step is to download the corona virus sequence (and a large amount of information about that sequence) from the ```genbank``` data base.  \n",
    "\n",
    "I did a quick internet seach and found that an accession number from Severe acute respiratory syndrome coronavirus 2 isolate  Wuhan-Hu-1, complete genome: ```MN908947```.\n",
    "\n",
    "We are going to use the modules ```Bio``` and ```biopython```, so let's import those now. \n",
    "\n",
    "**Note** - If any of the following packages do not import, you may need to install the missing modules using magic commands (see code below)."
   ]
  },
  {
   "cell_type": "code",
   "execution_count": 28,
   "id": "33813934",
   "metadata": {},
<<<<<<< HEAD
   "outputs": [
    {
     "name": "stdout",
     "output_type": "stream",
     "text": [
      "Requirement already satisfied: biopython in c:\\users\\hollo\\anaconda3\\envs\\biom480a5\\lib\\site-packages (1.85)\n",
      "Requirement already satisfied: numpy in c:\\users\\hollo\\anaconda3\\envs\\biom480a5\\lib\\site-packages (from biopython) (1.26.4)\n",
      "Note: you may need to restart the kernel to use updated packages.\n",
      "Collecting Bio\n",
      "  Downloading bio-1.7.1-py3-none-any.whl.metadata (5.7 kB)\n",
      "Requirement already satisfied: biopython>=1.80 in c:\\users\\hollo\\anaconda3\\envs\\biom480a5\\lib\\site-packages (from Bio) (1.85)\n",
      "Collecting gprofiler-official (from Bio)\n",
      "  Downloading gprofiler_official-1.0.0-py3-none-any.whl.metadata (11 kB)\n",
      "Collecting mygene (from Bio)\n",
      "  Downloading mygene-3.2.2-py2.py3-none-any.whl.metadata (10 kB)\n",
      "Requirement already satisfied: pandas in c:\\users\\hollo\\anaconda3\\envs\\biom480a5\\lib\\site-packages (from Bio) (2.2.3)\n",
      "Collecting pooch (from Bio)\n",
      "  Downloading pooch-1.8.2-py3-none-any.whl.metadata (10 kB)\n",
      "Requirement already satisfied: requests in c:\\users\\hollo\\anaconda3\\envs\\biom480a5\\lib\\site-packages (from Bio) (2.32.3)\n",
      "Collecting tqdm (from Bio)\n",
      "  Downloading tqdm-4.67.1-py3-none-any.whl.metadata (57 kB)\n",
      "Requirement already satisfied: numpy in c:\\users\\hollo\\anaconda3\\envs\\biom480a5\\lib\\site-packages (from biopython>=1.80->Bio) (1.26.4)\n",
      "Collecting biothings-client>=0.2.6 (from mygene->Bio)\n",
      "  Downloading biothings_client-0.4.1-py3-none-any.whl.metadata (10 kB)\n",
      "Requirement already satisfied: python-dateutil>=2.8.2 in c:\\users\\hollo\\anaconda3\\envs\\biom480a5\\lib\\site-packages (from pandas->Bio) (2.9.0.post0)\n",
      "Requirement already satisfied: pytz>=2020.1 in c:\\users\\hollo\\anaconda3\\envs\\biom480a5\\lib\\site-packages (from pandas->Bio) (2024.1)\n",
      "Requirement already satisfied: tzdata>=2022.7 in c:\\users\\hollo\\anaconda3\\envs\\biom480a5\\lib\\site-packages (from pandas->Bio) (2023.3)\n",
      "Requirement already satisfied: platformdirs>=2.5.0 in c:\\users\\hollo\\anaconda3\\envs\\biom480a5\\lib\\site-packages (from pooch->Bio) (3.10.0)\n",
      "Requirement already satisfied: packaging>=20.0 in c:\\users\\hollo\\anaconda3\\envs\\biom480a5\\lib\\site-packages (from pooch->Bio) (24.2)\n",
      "Requirement already satisfied: charset-normalizer<4,>=2 in c:\\users\\hollo\\anaconda3\\envs\\biom480a5\\lib\\site-packages (from requests->Bio) (3.3.2)\n",
      "Requirement already satisfied: idna<4,>=2.5 in c:\\users\\hollo\\anaconda3\\envs\\biom480a5\\lib\\site-packages (from requests->Bio) (3.7)\n",
      "Requirement already satisfied: urllib3<3,>=1.21.1 in c:\\users\\hollo\\anaconda3\\envs\\biom480a5\\lib\\site-packages (from requests->Bio) (2.3.0)\n",
      "Requirement already satisfied: certifi>=2017.4.17 in c:\\users\\hollo\\anaconda3\\envs\\biom480a5\\lib\\site-packages (from requests->Bio) (2024.12.14)\n",
      "Requirement already satisfied: colorama in c:\\users\\hollo\\anaconda3\\envs\\biom480a5\\lib\\site-packages (from tqdm->Bio) (0.4.6)\n",
      "Requirement already satisfied: httpx>=0.22.0 in c:\\users\\hollo\\anaconda3\\envs\\biom480a5\\lib\\site-packages (from biothings-client>=0.2.6->mygene->Bio) (0.27.0)\n",
      "Requirement already satisfied: six>=1.5 in c:\\users\\hollo\\anaconda3\\envs\\biom480a5\\lib\\site-packages (from python-dateutil>=2.8.2->pandas->Bio) (1.16.0)\n",
      "Requirement already satisfied: anyio in c:\\users\\hollo\\anaconda3\\envs\\biom480a5\\lib\\site-packages (from httpx>=0.22.0->biothings-client>=0.2.6->mygene->Bio) (4.6.2)\n",
      "Requirement already satisfied: httpcore==1.* in c:\\users\\hollo\\anaconda3\\envs\\biom480a5\\lib\\site-packages (from httpx>=0.22.0->biothings-client>=0.2.6->mygene->Bio) (1.0.2)\n",
      "Requirement already satisfied: sniffio in c:\\users\\hollo\\anaconda3\\envs\\biom480a5\\lib\\site-packages (from httpx>=0.22.0->biothings-client>=0.2.6->mygene->Bio) (1.3.0)\n",
      "Requirement already satisfied: h11<0.15,>=0.13 in c:\\users\\hollo\\anaconda3\\envs\\biom480a5\\lib\\site-packages (from httpcore==1.*->httpx>=0.22.0->biothings-client>=0.2.6->mygene->Bio) (0.14.0)\n",
      "Requirement already satisfied: exceptiongroup>=1.0.2 in c:\\users\\hollo\\anaconda3\\envs\\biom480a5\\lib\\site-packages (from anyio->httpx>=0.22.0->biothings-client>=0.2.6->mygene->Bio) (1.2.0)\n",
      "Requirement already satisfied: typing-extensions>=4.1 in c:\\users\\hollo\\anaconda3\\envs\\biom480a5\\lib\\site-packages (from anyio->httpx>=0.22.0->biothings-client>=0.2.6->mygene->Bio) (4.12.2)\n",
      "Downloading bio-1.7.1-py3-none-any.whl (280 kB)\n",
      "Downloading gprofiler_official-1.0.0-py3-none-any.whl (9.3 kB)\n",
      "Downloading mygene-3.2.2-py2.py3-none-any.whl (5.4 kB)\n",
      "Downloading pooch-1.8.2-py3-none-any.whl (64 kB)\n",
      "Downloading tqdm-4.67.1-py3-none-any.whl (78 kB)\n",
      "Downloading biothings_client-0.4.1-py3-none-any.whl (46 kB)\n",
      "Installing collected packages: tqdm, pooch, gprofiler-official, biothings-client, mygene, Bio\n",
      "Successfully installed Bio-1.7.1 biothings-client-0.4.1 gprofiler-official-1.0.0 mygene-3.2.2 pooch-1.8.2 tqdm-4.67.1\n",
      "Note: you may need to restart the kernel to use updated packages.\n"
     ]
    },
    {
     "name": "stderr",
     "output_type": "stream",
     "text": [
      "c:\\Users\\hollo\\anaconda3\\envs\\BIOM480A5\\lib\\site-packages\\Bio\\pairwise2.py:278: BiopythonDeprecationWarning: Bio.pairwise2 has been deprecated, and we intend to remove it in a future release of Biopython. As an alternative, please consider using Bio.Align.PairwiseAligner as a replacement, and contact the Biopython developers if you still need the Bio.pairwise2 module.\n",
      "  warnings.warn(\n"
     ]
    }
   ],
=======
   "outputs": [],
>>>>>>> upstream/main
   "source": [
    "# Note, if you have not already installed the following packages, you can do so\n",
    "#  by running the following magic commands:\n",
    "%pip install biopython\n",
    "%pip install Bio\n",
    "\n",
    "# Importing the necessary libraries\n",
    "import Bio\n",
    "from Bio import Entrez, SeqIO, pairwise2, AlignIO, Phylo\n",
    "from Bio.Blast import NCBIWWW, NCBIXML\n",
    "from Bio.Seq import Seq\n",
    "from Bio.SeqRecord import SeqRecord\n",
    "from Bio.SeqUtils import ProtParam\n",
    "from Bio.Phylo.TreeConstruction import DistanceCalculator, DistanceTreeConstructor\n",
    "\n",
    "import matplotlib.pyplot as plt\n",
    "import matplotlib.image as mpimg\n",
    "import webbrowser\n",
    "import os\n",
    "import threading"
   ]
  },
  {
   "cell_type": "code",
   "execution_count": 29,
   "id": "a750f91b-5d63-4be6-a627-2864fd3d56e8",
   "metadata": {},
   "outputs": [],
   "source": [
    "#(PRELIMINARIES) Let's download the COVID19 virus sequence from NCBI\n",
    "# Provide your email for accessing NCBI\n",
    "Entrez.email = \"hollemma@colostate.edu\"  # Insert your email here\n",
    "\n",
    "def get_genbank(accession_number):\n",
    "    handle = Entrez.efetch(db=\"nucleotide\", id=accession_number, rettype=\"gb\", retmode=\"text\")\n",
    "    record = SeqIO.read(handle, \"genbank\")\n",
    "    handle.close()\n",
    "    return record\n",
    "\n",
    "corona_virus = get_genbank(\"MN908947\")"
   ]
  },
  {
   "cell_type": "markdown",
   "id": "bba26f20",
   "metadata": {},
   "source": [
    "### 1.A) Exploring features of genomic data\n",
    "\n",
    "Now that we have the data, let's explore to see what information is available to us:"
   ]
  },
  {
   "cell_type": "code",
   "execution_count": null,
   "id": "8d78b9bf",
   "metadata": {},
   "outputs": [],
   "source": [
    "# Let's look at what kinds of information are available to use in the data set:\n",
    "print(corona_virus)"
   ]
  },
  {
   "cell_type": "code",
<<<<<<< HEAD
   "execution_count": 4,
=======
   "execution_count": null,
   "id": "71e02364",
   "metadata": {},
   "outputs": [],
   "source": [
    "# Print the accession number\n",
    "print(corona_virus.id)"
   ]
  },
  {
   "cell_type": "markdown",
   "id": "c14d04d7",
   "metadata": {},
   "source": [
    "### **2.2) Sequence**\n",
    "\n",
    "Next, we can print the sequence itself. This is the actual DNA sequence that we will be analyzing."
   ]
  },
  {
   "cell_type": "code",
   "execution_count": null,
>>>>>>> upstream/main
   "id": "89c207a5",
   "metadata": {},
   "outputs": [],
   "source": [
    "# Print the first 1000 nucleotides.\n",
    "print(corona_virus.seq[0:1000])         # Output the sequence to screen."
   ]
  },
  {
   "cell_type": "code",
<<<<<<< HEAD
   "execution_count": 5,
   "id": "5e1d724e",
   "metadata": {},
   "outputs": [
    {
     "data": {
      "text/plain": [
       "29903"
      ]
     },
     "execution_count": 5,
     "metadata": {},
     "output_type": "execute_result"
    }
   ],
=======
   "execution_count": null,
   "id": "5e1d724e",
   "metadata": {},
   "outputs": [],
>>>>>>> upstream/main
   "source": [
    "# Find the length of the sequence\n",
    "len(corona_virus.seq)  # Find the length of the sequence."
   ]
  },
  {
   "cell_type": "code",
<<<<<<< HEAD
   "execution_count": 6,
   "id": "c5305149",
   "metadata": {},
   "outputs": [
    {
     "data": {
      "text/plain": [
       "{'molecule_type': 'ss-RNA',\n",
       " 'topology': 'linear',\n",
       " 'data_file_division': 'VRL',\n",
       " 'date': '18-MAR-2020',\n",
       " 'accessions': ['MN908947'],\n",
       " 'sequence_version': 3,\n",
       " 'keywords': [''],\n",
       " 'source': 'Severe acute respiratory syndrome coronavirus 2 (SARS-CoV-2)',\n",
       " 'organism': 'Severe acute respiratory syndrome coronavirus 2',\n",
       " 'taxonomy': ['Viruses',\n",
       "  'Riboviria',\n",
       "  'Orthornavirae',\n",
       "  'Pisuviricota',\n",
       "  'Pisoniviricetes',\n",
       "  'Nidovirales',\n",
       "  'Cornidovirineae',\n",
       "  'Coronaviridae',\n",
       "  'Orthocoronavirinae',\n",
       "  'Betacoronavirus',\n",
       "  'Sarbecovirus',\n",
       "  'Severe acute respiratory syndrome-related coronavirus'],\n",
       " 'references': [Reference(title='A new coronavirus associated with human respiratory disease in China', ...),\n",
       "  Reference(title='Direct Submission', ...)],\n",
       " 'comment': 'On Jan 17, 2020 this sequence version replaced MN908947.2.',\n",
       " 'structured_comment': defaultdict(dict,\n",
       "             {'Assembly-Data': {'Assembly Method': 'Megahit v. V1.1.3',\n",
       "               'Sequencing Technology': 'Illumina'}})}"
      ]
     },
     "execution_count": 6,
     "metadata": {},
     "output_type": "execute_result"
    }
   ],
=======
   "execution_count": null,
   "id": "a53eb5e2",
   "metadata": {},
   "outputs": [],
   "source": [
    "# Print description of the sequence\n",
    "print(corona_virus.description)"
   ]
  },
  {
   "cell_type": "markdown",
   "id": "ebebf33e",
   "metadata": {},
   "source": [
    "## **2.4) Annotations**\n",
    "\n",
    "Annotations are additional information about the sequence that can be used to help interpret the sequence. This can include information about the gene the sequence codes for, the location of the gene on the chromosome, and other relevant information."
   ]
  },
  {
   "cell_type": "code",
   "execution_count": null,
   "id": "c5305149",
   "metadata": {},
   "outputs": [],
>>>>>>> upstream/main
   "source": [
    "# Explore what annotations are made about the sequence\n",
    "corona_virus.annotations"
   ]
  },
  {
   "cell_type": "code",
<<<<<<< HEAD
   "execution_count": 7,
   "id": "9d57bd27",
   "metadata": {},
   "outputs": [
    {
     "data": {
      "text/plain": [
       "['Viruses',\n",
       " 'Riboviria',\n",
       " 'Orthornavirae',\n",
       " 'Pisuviricota',\n",
       " 'Pisoniviricetes',\n",
       " 'Nidovirales',\n",
       " 'Cornidovirineae',\n",
       " 'Coronaviridae',\n",
       " 'Orthocoronavirinae',\n",
       " 'Betacoronavirus',\n",
       " 'Sarbecovirus',\n",
       " 'Severe acute respiratory syndrome-related coronavirus']"
      ]
     },
     "execution_count": 7,
     "metadata": {},
     "output_type": "execute_result"
    }
   ],
=======
   "execution_count": null,
   "id": "9d57bd27",
   "metadata": {},
   "outputs": [],
>>>>>>> upstream/main
   "source": [
    "# What is the taxonomy of the sequence?\n",
    "corona_virus.annotations['taxonomy']"
   ]
  },
  {
   "cell_type": "code",
   "execution_count": 8,
   "id": "2b763784",
   "metadata": {},
   "outputs": [
    {
     "data": {
      "text/plain": [
       "['MN908947']"
      ]
     },
     "execution_count": 8,
     "metadata": {},
     "output_type": "execute_result"
    }
   ],
   "source": [
    "# What is the accession number?\n",
    "corona_virus.annotations['accessions']"
   ]
  },
  {
   "cell_type": "code",
   "execution_count": 9,
   "id": "32b8b8f8",
   "metadata": {},
   "outputs": [
    {
     "data": {
      "text/plain": [
       "True"
      ]
     },
     "execution_count": 9,
     "metadata": {},
     "output_type": "execute_result"
    }
   ],
   "source": [
    "# Let's get more information by going directly to the sequence entry on NCBI.\n",
    "sequence_link = 'https://www.ncbi.nlm.nih.gov/nuccore/' + corona_virus.annotations['accessions'][0]\n",
    "webbrowser.open_new(sequence_link)"
   ]
  },
  {
   "cell_type": "code",
   "execution_count": 10,
   "id": "e5e19912",
   "metadata": {},
   "outputs": [
    {
     "name": "stdout",
     "output_type": "stream",
     "text": [
      "32015508\n"
     ]
    },
    {
     "data": {
      "text/plain": [
       "True"
      ]
     },
     "execution_count": 10,
     "metadata": {},
     "output_type": "execute_result"
    }
   ],
   "source": [
    "# We can get even more information about the sequence by looking \n",
    "# at the original paper that described this sequence.  For this, \n",
    "# we will first need the PUBMED ID number:\n",
    "print(corona_virus.annotations['references'][0].pubmed_id)\n",
    "\n",
    "# With that we can launch a browser and find the article:\n",
    "pubmed_link = 'https://www.ncbi.nlm.nih.gov/pubmed/' + corona_virus.annotations['references'][0].pubmed_id\n",
    "webbrowser.open_new(pubmed_link)"
   ]
  },
  {
   "cell_type": "code",
   "execution_count": 11,
   "id": "bfbe4f1b",
   "metadata": {},
   "outputs": [
    {
     "data": {
      "image/png": "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",
      "text/plain": [
       "<Figure size 500x500 with 1 Axes>"
      ]
     },
     "metadata": {},
     "output_type": "display_data"
    }
   ],
   "source": [
    "# Let's make a pie chart of the number of each nucleotide:\n",
    "\n",
    "seq = str(corona_virus.seq)\n",
    "neucleotides = 'ATGC'\n",
    "counts = []\n",
    "for i in range(4):\n",
    "    counts.append(seq.count(neucleotides[i]))\n",
    "\n",
    "plt.figure(figsize=(2.5, 2.5), dpi=200)\n",
    "plt.pie(counts, labels=neucleotides, autopct='%1.1f%%')\n",
    "plt.title('Nucleotide Counts')\n",
    "plt.show()"
   ]
  },
  {
   "cell_type": "code",
   "execution_count": 12,
   "id": "b778ffcb",
   "metadata": {},
   "outputs": [
    {
     "name": "stdout",
     "output_type": "stream",
     "text": [
      "the sum of the dimers is = 29902\n",
      "the length - 1 of the sequence is = 29902\n"
     ]
    },
    {
     "data": {
      "image/png": "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",
      "text/plain": [
       "<Figure size 800x800 with 1 Axes>"
      ]
     },
     "metadata": {},
     "output_type": "display_data"
    }
   ],
   "source": [
    "# Let's do the same thing, but for dimers:\n",
    "neucleotides = 'ATGC'\n",
    "labels = []\n",
    "dimerDict = {}\n",
    "for i in range(4):\n",
    "    for j in range(4):\n",
    "        labels.append(neucleotides[i]+neucleotides[j])\n",
    "        dimerDict[neucleotides[i]+neucleotides[j]] = 0\n",
    "for i in range(len(corona_virus.seq)-1):\n",
    "    dimerDict[corona_virus.seq[i:i+2]] += 1\n",
    "\n",
    "# Check that the sum is correct\n",
    "print(f'the sum of the dimers is = {sum([dimerDict[i] for i in dimerDict])}')\n",
    "print(f'the length - 1 of the sequence is = {len(corona_virus.seq)-1}')  \n",
    "\n",
    "plt.figure(figsize=(4, 4), dpi=200)\n",
    "plt.pie([dimerDict[i] for i in dimerDict], labels=[i for i in dimerDict], autopct='%1.1f%%')\n",
    "plt.title('Dimer Counts')\n",
    "plt.show()"
   ]
  },
  {
   "cell_type": "markdown",
   "id": "ae6727d8-27ca-47be-aa51-45a9cd68736c",
   "metadata": {},
   "source": [
    "### 1.B) Visualizing translation open reading frames\n",
    "In the next cell, we examine a sequence to find what its sequence would translate to in amino acids, and then we plot all of the open reading frames (ORFs) in each frame."
   ]
  },
  {
   "cell_type": "code",
   "execution_count": 13,
   "id": "799b92f3-ef6f-4336-9d64-f0ae33df4f91",
   "metadata": {
    "tags": []
   },
   "outputs": [
    {
     "name": "stdout",
     "output_type": "stream",
     "text": [
      "KGLYLPR*QTNQLSISCRSVL*TNFKICVAVTRLHA*CTHAV*LITNYCR*QDTSNSSIFCRLLTVSSVLQPIISTSRFRPGVTER*DGEPCPWFQRENTRPTQFACFTGSRRARTWLWRLRGGGLIRGTSTS*RWHLWLSRS*KRRFAST*TALCVHQTFGCSNCTSWSCYG*AGSRTRRHSVRS*W*DTWCPCPSCGRNTSGLPQGSSS*ER**RSWWP*LRRRSKVI*LRRRAWH*SL*RFSRKLEH*T*QWCYP*THA*A*RRGIHSLCR*QLLWP*WLPS*VH*RPSSTCW*SFMHFVRTTGLY*H*EGCILLP*T*A*NCLVHGTF*KEL*IADTF*N*IGKEI*HLQWGMSKFCISLKFHNQDYSTKG*KEKA*WLYG*NSICLSSCVTK*MQPNVPFNSHEV*SLW*NFMADGRFC*SHLRILWH*EFD*RRCHYLWLLTPKCCC*NLLSSMSQFRSRT*A*SCRIP**IWLENHSS*GWSHYCLWRLCVLLCWLP*QVCLLGSTC*R*HRL*PYRCCWRRFRRS**QPS*NTPKRESQHQYCW*L*T**RDRHYFGIFFCFHKCFCGNCERFGL*SIQTNC*ILW*F*SYKRKS*KRCLEYW*TEINTESSLCICIRGCSCCTINFLPHS*NCSKFCACFTEGRYNNTRWNFTVFTETH*CYDVHI*FGY*QSSCNGLHYRWCCSVDFAVAN*HLWHCL*KTQTRP*LA*REV*GRCRVS*RRLGNC*IYLNLCL*NCRWTNCHLCKGN*GECSDIL*ACK*IFGFVC*LYHYWWS*T*SLEFR*NICHALKGIVQKVC*IQRRNWPTHASKSPKRNYLLRGRNTSHRSVNRGSCLENW*FTTIRTTY**SC*SSIGWYTSLY*RAYVARNQRHRKVLCPCT*YDGNKQYLHTQRRCTNKGYFW**HCDRSARLQECEYHF*T**KD**ST**EVLCLYS*TRYRSK*VRLCCGRCCHKNFATSI*ITYTTGH*FR*VEYGYILLI**VW\n"
     ]
    },
    {
     "name": "stderr",
     "output_type": "stream",
     "text": [
      "/Users/munsky/anaconda3/envs/BIOM480A5/lib/python3.10/site-packages/Bio/Seq.py:2879: BiopythonWarning: Partial codon, len(sequence) not a multiple of three. Explicitly trim the sequence or add trailing N before translation. This may become an error in future.\n",
      "  warnings.warn(\n"
     ]
    }
   ],
   "source": [
    "# Print the AA sequence that would be coded for each frame:\n",
    "frame = 0\n",
    "AA_frame = corona_virus[frame:].translate(to_stop=False)\n",
    "print(AA_frame.seq[1:1000])"
   ]
  },
  {
   "cell_type": "code",
   "execution_count": 14,
   "id": "a0e43cf7-1839-4f9e-984e-ae45ec632be2",
   "metadata": {
    "tags": []
   },
   "outputs": [
    {
     "data": {
      "image/png": "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",
      "text/plain": [
       "<Figure size 1500x300 with 1 Axes>"
      ]
     },
     "metadata": {},
     "output_type": "display_data"
    }
   ],
   "source": [
    "# Now, let's make a plot of the open reading frames to show where they are on the sequence.\n",
    "\n",
    "# Function to find ORFs in all frames of a sequence\n",
    "def find_all_orfs(sequence):\n",
    "    orf_list = []           # List of all the ORF we find\n",
    "    for frame in range(3):  # Check each of the three reading frames\n",
    "        orfs = []           # List of ORFs for the current frame   \n",
    "        lastStop = frame    # Position of last stop codon.\n",
    "        for orf in sequence[frame:].translate(to_stop=False).split('*'):     # Translate the curent frame sequence into AA and break up by stop codons\n",
    "            if len(orf) > 30:                                                # Consider ORFs longer than 50 amino acids\n",
    "                start = lastStop + orf.find('M') * 3 if 'M' in orf else None # Update start codon position to next M, \n",
    "                stop = lastStop + (len(orf))*3 if 'M' in orf else None       # Update stop codon to next '*'\n",
    "                if start is not None and stop is not None:                   # In the coding region is >30AA\n",
    "                    orfs.append((start, stop))                                      # Append the start and stop positions for that ORF\n",
    "            lastStop += len(orf)*3 + 3           # Update the position of the last stop codon\n",
    "        orf_list.append(orfs)                    # Append the list of ORFs for the current frame\n",
    "    return orf_list\n",
    "\n",
    "# Find all ORFs in each frame of the sequence\n",
    "orf_positions = find_all_orfs(corona_virus.seq)\n",
    "\n",
    "# Visualize ORFs on the sequence for each frame\n",
    "plt.figure(figsize=(15, 3))\n",
    "colors = ['blue','black','purple']\n",
    "for frame, orfs in enumerate(orf_positions):\n",
    "    for start, stop in orfs:\n",
    "        plt.plot([start, stop], [frame, frame], marker='o', color=colors[frame], markersize=5)\n",
    "plt.title('Open Reading Frames in Each Frame')\n",
    "plt.xlabel('Position')\n",
    "plt.ylabel('Frame')\n",
    "plt.yticks([0, 1, 2], ['Frame 0', 'Frame 1', 'Frame 2'])\n",
    "plt.show()"
   ]
  },
  {
   "cell_type": "markdown",
   "id": "8de988c0-2eb8-48c7-8c39-309420998bc7",
   "metadata": {},
   "source": [
    "### 1.B) Exploring advanced features in the genome\n",
    "\n",
    "Here is an example for how to download the genbank file to disk so that you can analyse it later."
   ]
  },
  {
   "cell_type": "code",
<<<<<<< HEAD
   "execution_count": 15,
   "id": "3bf03688-12a8-409a-a593-bfde81639e23",
   "metadata": {
    "tags": []
   },
   "outputs": [
    {
     "name": "stdout",
     "output_type": "stream",
     "text": [
      "GenBank record downloaded and saved to coronaVirus.gb\n"
     ]
    }
   ],
=======
   "execution_count": null,
   "id": "53cc9e5f",
   "metadata": {},
   "outputs": [],
>>>>>>> upstream/main
   "source": [
    "def download_genbank(accession_number, output_file):\n",
    "    try:\n",
    "        # Fetch the GenBank record\n",
    "        handle = Entrez.efetch(db=\"nucleotide\", id=accession_number, rettype=\"gb\", retmode=\"text\")\n",
    "\n",
    "        # Write the record to a file\n",
    "        with open(output_file, \"w\") as f:\n",
    "            f.write(handle.read())\n",
    "\n",
    "        print(f\"GenBank record downloaded and saved to {output_file}\")\n",
    "\n",
    "    except Exception as e:\n",
    "        print(f\"Error: {e}\")\n",
    "\n",
    "# Example: Download GenBank record for a given accession number\n",
    "accession_number = \"MN908947\"  # Replace with your accession number\n",
    "output_file = \"coronaVirus.gb\"\n",
    "\n",
    "download_genbank(accession_number, output_file)"
   ]
  },
  {
   "cell_type": "code",
<<<<<<< HEAD
   "execution_count": 16,
   "id": "4d5ddfc7-1d69-4b92-88e2-b920c5fa43f7",
   "metadata": {
    "tags": []
   },
   "outputs": [
    {
     "name": "stdout",
     "output_type": "stream",
     "text": [
      "Feature Type: source\n",
      "Location: [0:29903](+)\n",
      "Qualifiers: {'organism': ['Severe acute respiratory syndrome coronavirus 2'], 'mol_type': ['genomic RNA'], 'isolate': ['Wuhan-Hu-1'], 'host': ['Homo sapiens'], 'db_xref': ['taxon:2697049'], 'geo_loc_name': ['China'], 'collection_date': ['Dec-2019']}\n",
      "Feature Type: 5'UTR\n",
      "Location: [0:265](+)\n",
      "Qualifiers: {}\n",
      "Feature Type: gene\n",
      "Location: [265:21555](+)\n",
      "Qualifiers: {'gene': ['orf1ab']}\n",
      "Feature Type: CDS\n",
      "Location: join{[265:13468](+), [13467:21555](+)}\n",
      "Qualifiers: {'gene': ['orf1ab'], 'ribosomal_slippage': [''], 'note': ['pp1ab; translated by -1 ribosomal frameshift'], 'codon_start': ['1'], 'product': ['orf1ab polyprotein'], 'protein_id': ['QHD43415.1'], 'translation': ['MESLVPGFNEKTHVQLSLPVLQVRDVLVRGFGDSVEEVLSEARQHLKDGTCGLVEVEKGVLPQLEQPYVFIKRSDARTAPHGHVMVELVAELEGIQYGRSGETLGVLVPHVGEIPVAYRKVLLRKNGNKGAGGHSYGADLKSFDLGDELGTDPYEDFQENWNTKHSSGVTRELMRELNGGAYTRYVDNNFCGPDGYPLECIKDLLARAGKASCTLSEQLDFIDTKRGVYCCREHEHEIAWYTERSEKSYELQTPFEIKLAKKFDTFNGECPNFVFPLNSIIKTIQPRVEKKKLDGFMGRIRSVYPVASPNECNQMCLSTLMKCDHCGETSWQTGDFVKATCEFCGTENLTKEGATTCGYLPQNAVVKIYCPACHNSEVGPEHSLAEYHNESGLKTILRKGGRTIAFGGCVFSYVGCHNKCAYWVPRASANIGCNHTGVVGEGSEGLNDNLLEILQKEKVNINIVGDFKLNEEIAIILASFSASTSAFVETVKGLDYKAFKQIVESCGNFKVTKGKAKKGAWNIGEQKSILSPLYAFASEAARVVRSIFSRTLETAQNSVRVLQKAAITILDGISQYSLRLIDAMMFTSDLATNNLVVMAYITGGVVQLTSQWLTNIFGTVYEKLKPVLDWLEEKFKEGVEFLRDGWEIVKFISTCACEIVGGQIVTCAKEIKESVQTFFKLVNKFLALCADSIIIGGAKLKALNLGETFVTHSKGLYRKCVKSREETGLLMPLKAPKEIIFLEGETLPTEVLTEEVVLKTGDLQPLEQPTSEAVEAPLVGTPVCINGLMLLEIKDTEKYCALAPNMMVTNNTFTLKGGAPTKVTFGDDTVIEVQGYKSVNITFELDERIDKVLNEKCSAYTVELGTEVNEFACVVADAVIKTLQPVSELLTPLGIDLDEWSMATYYLFDESGEFKLASHMYCSFYPPDEDEEEGDCEEEEFEPSTQYEYGTEDDYQGKPLEFGATSAALQPEEEQEEDWLDDDSQQTVGQQDGSEDNQTTTIQTIVEVQPQLEMELTPVVQTIEVNSFSGYLKLTDNVYIKNADIVEEAKKVKPTVVVNAANVYLKHGGGVAGALNKATNNAMQVESDDYIATNGPLKVGGSCVLSGHNLAKHCLHVVGPNVNKGEDIQLLKSAYENFNQHEVLLAPLLSAGIFGADPIHSLRVCVDTVRTNVYLAVFDKNLYDKLVSSFLEMKSEKQVEQKIAEIPKEEVKPFITESKPSVEQRKQDDKKIKACVEEVTTTLEETKFLTENLLLYIDINGNLHPDSATLVSDIDITFLKKDAPYIVGDVVQEGVLTAVVIPTKKAGGTTEMLAKALRKVPTDNYITTYPGQGLNGYTVEEAKTVLKKCKSAFYILPSIISNEKQEILGTVSWNLREMLAHAEETRKLMPVCVETKAIVSTIQRKYKGIKIQEGVVDYGARFYFYTSKTTVASLINTLNDLNETLVTMPLGYVTHGLNLEEAARYMRSLKVPATVSVSSPDAVTAYNGYLTSSSKTPEEHFIETISLAGSYKDWSYSGQSTQLGIEFLKRGDKSVYYTSNPTTFHLDGEVITFDNLKTLLSLREVRTIKVFTTVDNINLHTQVVDMSMTYGQQFGPTYLDGADVTKIKPHNSHEGKTFYVLPNDDTLRVEAFEYYHTTDPSFLGRYMSALNHTKKWKYPQVNGLTSIKWADNNCYLATALLTLQQIELKFNPPALQDAYYRARAGEAANFCALILAYCNKTVGELGDVRETMSYLFQHANLDSCKRVLNVVCKTCGQQQTTLKGVEAVMYMGTLSYEQFKKGVQIPCTCGKQATKYLVQQESPFVMMSAPPAQYELKHGTFTCASEYTGNYQCGHYKHITSKETLYCIDGALLTKSSEYKGPITDVFYKENSYTTTIKPVTYKLDGVVCTEIDPKLDNYYKKDNSYFTEQPIDLVPNQPYPNASFDNFKFVCDNIKFADDLNQLTGYKKPASRELKVTFFPDLNGDVVAIDYKHYTPSFKKGAKLLHKPIVWHVNNATNKATYKPNTWCIRCLWSTKPVETSNSFDVLKSEDAQGMDNLACEDLKPVSEEVVENPTIQKDVLECNVKTTEVVGDIILKPANNSLKITEEVGHTDLMAAYVDNSSLTIKKPNELSRVLGLKTLATHGLAAVNSVPWDTIANYAKPFLNKVVSTTTNIVTRCLNRVCTNYMPYFFTLLLQLCTFTRSTNSRIKASMPTTIAKNTVKSVGKFCLEASFNYLKSPNFSKLINIIIWFLLLSVCLGSLIYSTAALGVLMSNLGMPSYCTGYREGYLNSTNVTIATYCTGSIPCSVCLSGLDSLDTYPSLETIQITISSFKWDLTAFGLVAEWFLAYILFTRFFYVLGLAAIMQLFFSYFAVHFISNSWLMWLIINLVQMAPISAMVRMYIFFASFYYVWKSYVHVVDGCNSSTCMMCYKRNRATRVECTTIVNGVRRSFYVYANGGKGFCKLHNWNCVNCDTFCAGSTFISDEVARDLSLQFKRPINPTDQSSYIVDSVTVKNGSIHLYFDKAGQKTYERHSLSHFVNLDNLRANNTKGSLPINVIVFDGKSKCEESSAKSASVYYSQLMCQPILLLDQALVSDVGDSAEVAVKMFDAYVNTFSSTFNVPMEKLKTLVATAEAELAKNVSLDNVLSTFISAARQGFVDSDVETKDVVECLKLSHQSDIEVTGDSCNNYMLTYNKVENMTPRDLGACIDCSARHINAQVAKSHNIALIWNVKDFMSLSEQLRKQIRSAAKKNNLPFKLTCATTRQVVNVVTTKIALKGGKIVNNWLKQLIKVTLVFLFVAAIFYLITPVHVMSKHTDFSSEIIGYKAIDGGVTRDIASTDTCFANKHADFDTWFSQRGGSYTNDKACPLIAAVITREVGFVVPGLPGTILRTTNGDFLHFLPRVFSAVGNICYTPSKLIEYTDFATSACVLAAECTIFKDASGKPVPYCYDTNVLEGSVAYESLRPDTRYVLMDGSIIQFPNTYLEGSVRVVTTFDSEYCRHGTCERSEAGVCVSTSGRWVLNNDYYRSLPGVFCGVDAVNLLTNMFTPLIQPIGALDISASIVAGGIVAIVVTCLAYYFMRFRRAFGEYSHVVAFNTLLFLMSFTVLCLTPVYSFLPGVYSVIYLYLTFYLTNDVSFLAHIQWMVMFTPLVPFWITIAYIICISTKHFYWFFSNYLKRRVVFNGVSFSTFEEAALCTFLLNKEMYLKLRSDVLLPLTQYNRYLALYNKYKYFSGAMDTTSYREAACCHLAKALNDFSNSGSDVLYQPPQTSITSAVLQSGFRKMAFPSGKVEGCMVQVTCGTTTLNGLWLDDVVYCPRHVICTSEDMLNPNYEDLLIRKSNHNFLVQAGNVQLRVIGHSMQNCVLKLKVDTANPKTPKYKFVRIQPGQTFSVLACYNGSPSGVYQCAMRPNFTIKGSFLNGSCGSVGFNIDYDCVSFCYMHHMELPTGVHAGTDLEGNFYGPFVDRQTAQAAGTDTTITVNVLAWLYAAVINGDRWFLNRFTTTLNDFNLVAMKYNYEPLTQDHVDILGPLSAQTGIAVLDMCASLKELLQNGMNGRTILGSALLEDEFTPFDVVRQCSGVTFQSAVKRTIKGTHHWLLLTILTSLLVLVQSTQWSLFFFLYENAFLPFAMGIIAMSAFAMMFVKHKHAFLCLFLLPSLATVAYFNMVYMPASWVMRIMTWLDMVDTSLSGFKLKDCVMYASAVVLLILMTARTVYDDGARRVWTLMNVLTLVYKVYYGNALDQAISMWALIISVTSNYSGVVTTVMFLARGIVFMCVEYCPIFFITGNTLQCIMLVYCFLGYFCTCYFGLFCLLNRYFRLTLGVYDYLVSTQEFRYMNSQGLLPPKNSIDAFKLNIKLLGVGGKPCIKVATVQSKMSDVKCTSVVLLSVLQQLRVESSSKLWAQCVQLHNDILLAKDTTEAFEKMVSLLSVLLSMQGAVDINKLCEEMLDNRATLQAIASEFSSLPSYAAFATAQEAYEQAVANGDSEVVLKKLKKSLNVAKSEFDRDAAMQRKLEKMADQAMTQMYKQARSEDKRAKVTSAMQTMLFTMLRKLDNDALNNIINNARDGCVPLNIIPLTTAAKLMVVIPDYNTYKNTCDGTTFTYASALWEIQQVVDADSKIVQLSEISMDNSPNLAWPLIVTALRANSAVKLQNNELSPVALRQMSCAAGTTQTACTDDNALAYYNTTKGGRFVLALLSDLQDLKWARFPKSDGTGTIYTELEPPCRFVTDTPKGPKVKYLYFIKGLNNLNRGMVLGSLAATVRLQAGNATEVPANSTVLSFCAFAVDAAKAYKDYLASGGQPITNCVKMLCTHTGTGQAITVTPEANMDQESFGGASCCLYCRCHIDHPNPKGFCDLKGKYVQIPTTCANDPVGFTLKNTVCTVCGMWKGYGCSCDQLREPMLQSADAQSFLNRVCGVSAARLTPCGTGTSTDVVYRAFDIYNDKVAGFAKFLKTNCCRFQEKDEDDNLIDSYFVVKRHTFSNYQHEETIYNLLKDCPAVAKHDFFKFRIDGDMVPHISRQRLTKYTMADLVYALRHFDEGNCDTLKEILVTYNCCDDDYFNKKDWYDFVENPDILRVYANLGERVRQALLKTVQFCDAMRNAGIVGVLTLDNQDLNGNWYDFGDFIQTTPGSGVPVVDSYYSLLMPILTLTRALTAESHVDTDLTKPYIKWDLLKYDFTEERLKLFDRYFKYWDQTYHPNCVNCLDDRCILHCANFNVLFSTVFPPTSFGPLVRKIFVDGVPFVVSTGYHFRELGVVHNQDVNLHSSRLSFKELLVYAADPAMHAASGNLLLDKRTTCFSVAALTNNVAFQTVKPGNFNKDFYDFAVSKGFFKEGSSVELKHFFFAQDGNAAISDYDYYRYNLPTMCDIRQLLFVVEVVDKYFDCYDGGCINANQVIVNNLDKSAGFPFNKWGKARLYYDSMSYEDQDALFAYTKRNVIPTITQMNLKYAISAKNRARTVAGVSICSTMTNRQFHQKLLKSIAATRGATVVIGTSKFYGGWHNMLKTVYSDVENPHLMGWDYPKCDRAMPNMLRIMASLVLARKHTTCCSLSHRFYRLANECAQVLSEMVMCGGSLYVKPGGTSSGDATTAYANSVFNICQAVTANVNALLSTDGNKIADKYVRNLQHRLYECLYRNRDVDTDFVNEFYAYLRKHFSMMILSDDAVVCFNSTYASQGLVASIKNFKSVLYYQNNVFMSEAKCWTETDLTKGPHEFCSQHTMLVKQGDDYVYLPYPDPSRILGAGCFVDDIVKTDGTLMIERFVSLAIDAYPLTKHPNQEYADVFHLYLQYIRKLHDELTGHMLDMYSVMLTNDNTSRYWEPEFYEAMYTPHTVLQAVGACVLCNSQTSLRCGACIRRPFLCCKCCYDHVISTSHKLVLSVNPYVCNAPGCDVTDVTQLYLGGMSYYCKSHKPPISFPLCANGQVFGLYKNTCVGSDNVTDFNAIATCDWTNAGDYILANTCTERLKLFAAETLKATEETFKLSYGIATVREVLSDRELHLSWEVGKPRPPLNRNYVFTGYRVTKNSKVQIGEYTFEKGDYGDAVVYRGTTTYKLNVGDYFVLTSHTVMPLSAPTLVPQEHYVRITGLYPTLNISDEFSSNVANYQKVGMQKYSTLQGPPGTGKSHFAIGLALYYPSARIVYTACSHAAVDALCEKALKYLPIDKCSRIIPARARVECFDKFKVNSTLEQYVFCTVNALPETTADIVVFDEISMATNYDLSVVNARLRAKHYVYIGDPAQLPAPRTLLTKGTLEPEYFNSVCRLMKTIGPDMFLGTCRRCPAEIVDTVSALVYDNKLKAHKDKSAQCFKMFYKGVITHDVSSAINRPQIGVVREFLTRNPAWRKAVFISPYNSQNAVASKILGLPTQTVDSSQGSEYDYVIFTQTTETAHSCNVNRFNVAITRAKVGILCIMSDRDLYDKLQFTSLEIPRRNVATLQAENVTGLFKDCSKVITGLHPTQAPTHLSVDTKFKTEGLCVDIPGIPKDMTYRRLISMMGFKMNYQVNGYPNMFITREEAIRHVRAWIGFDVEGCHATREAVGTNLPLQLGFSTGVNLVAVPTGYVDTPNNTDFSRVSAKPPPGDQFKHLIPLMYKGLPWNVVRIKIVQMLSDTLKNLSDRVVFVLWAHGFELTSMKYFVKIGPERTCCLCDRRATCFSTASDTYACWHHSIGFDYVYNPFMIDVQQWGFTGNLQSNHDLYCQVHGNAHVASCDAIMTRCLAVHECFVKRVDWTIEYPIIGDELKINAACRKVQHMVVKAALLADKFPVLHDIGNPKAIKCVPQADVEWKFYDAQPCSDKAYKIEELFYSYATHSDKFTDGVCLFWNCNVDRYPANSIVCRFDTRVLSNLNLPGCDGGSLYVNKHAFHTPAFDKSAFVNLKQLPFFYYSDSPCESHGKQVVSDIDYVPLKSATCITRCNLGGAVCRHHANEYRLYLDAYNMMISAGFSLWVYKQFDTYNLWNTFTRLQSLENVAFNVVNKGHFDGQQGEVPVSIINNTVYTKVDGVDVELFENKTTLPVNVAFELWAKRNIKPVPEVKILNNLGVDIAANTVIWDYKRDAPAHISTIGVCSMTDIAKKPTETICAPLTVFFDGRVDGQVDLFRNARNGVLITEGSVKGLQPSVGPKQASLNGVTLIGEAVKTQFNYYKKVDGVVQQLPETYFTQSRNLQEFKPRSQMEIDFLELAMDEFIERYKLEGYAFEHIVYGDFSHSQLGGLHLLIGLAKRFKESPFELEDFIPMDSTVKNYFITDAQTGSSKCVCSVIDLLLDDFVEIIKSQDLSVVSKVVKVTIDYTEISFMLWCKDGHVETFYPKLQSSQAWQPGVAMPNLYKMQRMLLEKCDLQNYGDSATLPKGIMMNVAKYTQLCQYLNTLTLAVPYNMRVIHFGAGSDKGVAPGTAVLRQWLPTGTLLVDSDLNDFVSDADSTLIGDCATVHTANKWDLIISDMYDPKTKNVTKENDSKEGFFTYICGFIQQKLALGGSVAIKITEHSWNADLYKLMGHFAWWTAFVTNVNASSSEAFLIGCNYLGKPREQIDGYVMHANYIFWRNTNPIQLSSYSLFDMSKFPLKLRGTAVMSLKEGQINDMILSLLSKGRLIIRENNRVVISSDVLVNN']}\n",
      "Feature Type: gene\n",
      "Location: [21562:25384](+)\n",
      "Qualifiers: {'gene': ['S']}\n",
      "Feature Type: CDS\n",
      "Location: [21562:25384](+)\n",
      "Qualifiers: {'gene': ['S'], 'note': ['structural protein'], 'codon_start': ['1'], 'product': ['surface glycoprotein'], 'protein_id': ['QHD43416.1'], 'translation': ['MFVFLVLLPLVSSQCVNLTTRTQLPPAYTNSFTRGVYYPDKVFRSSVLHSTQDLFLPFFSNVTWFHAIHVSGTNGTKRFDNPVLPFNDGVYFASTEKSNIIRGWIFGTTLDSKTQSLLIVNNATNVVIKVCEFQFCNDPFLGVYYHKNNKSWMESEFRVYSSANNCTFEYVSQPFLMDLEGKQGNFKNLREFVFKNIDGYFKIYSKHTPINLVRDLPQGFSALEPLVDLPIGINITRFQTLLALHRSYLTPGDSSSGWTAGAAAYYVGYLQPRTFLLKYNENGTITDAVDCALDPLSETKCTLKSFTVEKGIYQTSNFRVQPTESIVRFPNITNLCPFGEVFNATRFASVYAWNRKRISNCVADYSVLYNSASFSTFKCYGVSPTKLNDLCFTNVYADSFVIRGDEVRQIAPGQTGKIADYNYKLPDDFTGCVIAWNSNNLDSKVGGNYNYLYRLFRKSNLKPFERDISTEIYQAGSTPCNGVEGFNCYFPLQSYGFQPTNGVGYQPYRVVVLSFELLHAPATVCGPKKSTNLVKNKCVNFNFNGLTGTGVLTESNKKFLPFQQFGRDIADTTDAVRDPQTLEILDITPCSFGGVSVITPGTNTSNQVAVLYQDVNCTEVPVAIHADQLTPTWRVYSTGSNVFQTRAGCLIGAEHVNNSYECDIPIGAGICASYQTQTNSPRRARSVASQSIIAYTMSLGAENSVAYSNNSIAIPTNFTISVTTEILPVSMTKTSVDCTMYICGDSTECSNLLLQYGSFCTQLNRALTGIAVEQDKNTQEVFAQVKQIYKTPPIKDFGGFNFSQILPDPSKPSKRSFIEDLLFNKVTLADAGFIKQYGDCLGDIAARDLICAQKFNGLTVLPPLLTDEMIAQYTSALLAGTITSGWTFGAGAALQIPFAMQMAYRFNGIGVTQNVLYENQKLIANQFNSAIGKIQDSLSSTASALGKLQDVVNQNAQALNTLVKQLSSNFGAISSVLNDILSRLDKVEAEVQIDRLITGRLQSLQTYVTQQLIRAAEIRASANLAATKMSECVLGQSKRVDFCGKGYHLMSFPQSAPHGVVFLHVTYVPAQEKNFTTAPAICHDGKAHFPREGVFVSNGTHWFVTQRNFYEPQIITTDNTFVSGNCDVVIGIVNNTVYDPLQPELDSFKEELDKYFKNHTSPDVDLGDISGINASVVNIQKEIDRLNEVAKNLNESLIDLQELGKYEQYIKWPWYIWLGFIAGLIAIVMVTIMLCCMTSCCSCLKGCCSCGSCCKFDEDDSEPVLKGVKLHYT']}\n",
      "Feature Type: gene\n",
      "Location: [25392:26220](+)\n",
      "Qualifiers: {'gene': ['ORF3a']}\n",
      "Feature Type: CDS\n",
      "Location: [25392:26220](+)\n",
      "Qualifiers: {'gene': ['ORF3a'], 'codon_start': ['1'], 'product': ['ORF3a protein'], 'protein_id': ['QHD43417.1'], 'translation': ['MDLFMRIFTIGTVTLKQGEIKDATPSDFVRATATIPIQASLPFGWLIVGVALLAVFQSASKIITLKKRWQLALSKGVHFVCNLLLLFVTVYSHLLLVAAGLEAPFLYLYALVYFLQSINFVRIIMRLWLCWKCRSKNPLLYDANYFLCWHTNCYDYCIPYNSVTSSIVITSGDGTTSPISEHDYQIGGYTEKWESGVKDCVVLHSYFTSDYYQLYSTQLSTDTGVEHVTFFIYNKIVDEPEEHVQIHTIDGSSGVVNPVMEPIYDEPTTTTSVPL']}\n",
      "Feature Type: gene\n",
      "Location: [26244:26472](+)\n",
      "Qualifiers: {'gene': ['E']}\n",
      "Feature Type: CDS\n",
      "Location: [26244:26472](+)\n",
      "Qualifiers: {'gene': ['E'], 'note': ['structural protein; E protein'], 'codon_start': ['1'], 'product': ['envelope protein'], 'protein_id': ['QHD43418.1'], 'translation': ['MYSFVSEETGTLIVNSVLLFLAFVVFLLVTLAILTALRLCAYCCNIVNVSLVKPSFYVYSRVKNLNSSRVPDLLV']}\n",
      "Feature Type: gene\n",
      "Location: [26522:27191](+)\n",
      "Qualifiers: {'gene': ['M']}\n",
      "Feature Type: CDS\n",
      "Location: [26522:27191](+)\n",
      "Qualifiers: {'gene': ['M'], 'note': ['structural protein'], 'codon_start': ['1'], 'product': ['membrane glycoprotein'], 'protein_id': ['QHD43419.1'], 'translation': ['MADSNGTITVEELKKLLEQWNLVIGFLFLTWICLLQFAYANRNRFLYIIKLIFLWLLWPVTLACFVLAAVYRINWITGGIAIAMACLVGLMWLSYFIASFRLFARTRSMWSFNPETNILLNVPLHGTILTRPLLESELVIGAVILRGHLRIAGHHLGRCDIKDLPKEITVATSRTLSYYKLGASQRVAGDSGFAAYSRYRIGNYKLNTDHSSSSDNIALLVQ']}\n",
      "Feature Type: gene\n",
      "Location: [27201:27387](+)\n",
      "Qualifiers: {'gene': ['ORF6']}\n",
      "Feature Type: CDS\n",
      "Location: [27201:27387](+)\n",
      "Qualifiers: {'gene': ['ORF6'], 'codon_start': ['1'], 'product': ['ORF6 protein'], 'protein_id': ['QHD43420.1'], 'translation': ['MFHLVDFQVTIAEILLIIMRTFKVSIWNLDYIINLIIKNLSKSLTENKYSQLDEEQPMEID']}\n",
      "Feature Type: gene\n",
      "Location: [27393:27759](+)\n",
      "Qualifiers: {'gene': ['ORF7a']}\n",
      "Feature Type: CDS\n",
      "Location: [27393:27759](+)\n",
      "Qualifiers: {'gene': ['ORF7a'], 'codon_start': ['1'], 'product': ['ORF7a protein'], 'protein_id': ['QHD43421.1'], 'translation': ['MKIILFLALITLATCELYHYQECVRGTTVLLKEPCSSGTYEGNSPFHPLADNKFALTCFSTQFAFACPDGVKHVYQLRARSVSPKLFIRQEEVQELYSPIFLIVAAIVFITLCFTLKRKTE']}\n",
      "Feature Type: gene\n",
      "Location: [27893:28259](+)\n",
      "Qualifiers: {'gene': ['ORF8']}\n",
      "Feature Type: CDS\n",
      "Location: [27893:28259](+)\n",
      "Qualifiers: {'gene': ['ORF8'], 'codon_start': ['1'], 'product': ['ORF8 protein'], 'protein_id': ['QHD43422.1'], 'translation': ['MKFLVFLGIITTVAAFHQECSLQSCTQHQPYVVDDPCPIHFYSKWYIRVGARKSAPLIELCVDEAGSKSPIQYIDIGNYTVSCLPFTINCQEPKLGSLVVRCSFYEDFLEYHDVRVVLDFI']}\n",
      "Feature Type: gene\n",
      "Location: [28273:29533](+)\n",
      "Qualifiers: {'gene': ['N']}\n",
      "Feature Type: CDS\n",
      "Location: [28273:29533](+)\n",
      "Qualifiers: {'gene': ['N'], 'note': ['structural protein'], 'codon_start': ['1'], 'product': ['nucleocapsid phosphoprotein'], 'protein_id': ['QHD43423.2'], 'translation': ['MSDNGPQNQRNAPRITFGGPSDSTGSNQNGERSGARSKQRRPQGLPNNTASWFTALTQHGKEDLKFPRGQGVPINTNSSPDDQIGYYRRATRRIRGGDGKMKDLSPRWYFYYLGTGPEAGLPYGANKDGIIWVATEGALNTPKDHIGTRNPANNAAIVLQLPQGTTLPKGFYAEGSRGGSQASSRSSSRSRNSSRNSTPGSSRGTSPARMAGNGGDAALALLLLDRLNQLESKMSGKGQQQQGQTVTKKSAAEASKKPRQKRTATKAYNVTQAFGRRGPEQTQGNFGDQELIRQGTDYKHWPQIAQFAPSASAFFGMSRIGMEVTPSGTWLTYTGAIKLDDKDPNFKDQVILLNKHIDAYKTFPPTEPKKDKKKKADETQALPQRQKKQQTVTLLPAADLDDFSKQLQQSMSSADSTQA']}\n",
      "Feature Type: gene\n",
      "Location: [29557:29674](+)\n",
      "Qualifiers: {'gene': ['ORF10']}\n",
      "Feature Type: CDS\n",
      "Location: [29557:29674](+)\n",
      "Qualifiers: {'gene': ['ORF10'], 'codon_start': ['1'], 'product': ['ORF10 protein'], 'protein_id': ['QHI42199.1'], 'translation': ['MGYINVFAFPFTIYSLLLCRMNSRNYIAQVDVVNFNLT']}\n",
      "Feature Type: 3'UTR\n",
      "Location: [29674:29903](+)\n",
      "Qualifiers: {}\n"
     ]
    }
   ],
=======
   "execution_count": null,
   "id": "20af1343",
   "metadata": {},
   "outputs": [],
>>>>>>> upstream/main
   "source": [
    "# Now that the file is saved, you can re-open it to get the information.\n",
    "def extract_features(genbank_file):\n",
    "    for record in SeqIO.parse(genbank_file, 'genbank'):\n",
    "        for feature in record.features:\n",
    "            print(f\"Feature Type: {feature.type}\")\n",
    "            print(f\"Location: {feature.location}\")\n",
    "            print(f\"Qualifiers: {feature.qualifiers}\")\n",
    "\n",
    "extract_features(output_file)"
   ]
  },
  {
   "cell_type": "code",
<<<<<<< HEAD
   "execution_count": 17,
   "id": "4e5ee2a0-33ea-4f84-be5e-67accc1e9861",
   "metadata": {
    "tags": []
   },
   "outputs": [
    {
     "ename": "NameError",
     "evalue": "name 'proteinOfInterest' is not defined",
     "output_type": "error",
     "traceback": [
      "\u001b[0;31m---------------------------------------------------------------------------\u001b[0m",
      "\u001b[0;31mNameError\u001b[0m                                 Traceback (most recent call last)",
      "Cell \u001b[0;32mIn[17], line 2\u001b[0m\n\u001b[1;32m      1\u001b[0m \u001b[38;5;66;03m# Calculate amino acid count and plot as a bar chart\u001b[39;00m\n\u001b[0;32m----> 2\u001b[0m aa_counts \u001b[38;5;241m=\u001b[39m ProtParam\u001b[38;5;241m.\u001b[39mProteinAnalysis(\u001b[43mproteinOfInterest\u001b[49m)\u001b[38;5;241m.\u001b[39mcount_amino_acids()\n\u001b[1;32m      3\u001b[0m plt\u001b[38;5;241m.\u001b[39mbar(aa_counts\u001b[38;5;241m.\u001b[39mkeys(), aa_counts\u001b[38;5;241m.\u001b[39mvalues())\n\u001b[1;32m      4\u001b[0m plt\u001b[38;5;241m.\u001b[39mxlabel(\u001b[38;5;124m'\u001b[39m\u001b[38;5;124mAmino Acids\u001b[39m\u001b[38;5;124m'\u001b[39m)\n",
      "\u001b[0;31mNameError\u001b[0m: name 'proteinOfInterest' is not defined"
     ]
    }
   ],
   "source": [
    "# Calculate amino acid count and plot as a bar chart\n",
    "aa_counts = ProtParam.ProteinAnalysis(proteinOfInterest).count_amino_acids()\n",
    "plt.bar(aa_counts.keys(), aa_counts.values())\n",
    "plt.xlabel('Amino Acids')\n",
    "plt.ylabel('Count')\n",
    "plt.title('Amino Acid Content')\n",
    "plt.show()\n",
=======
   "execution_count": null,
   "id": "d903122b",
   "metadata": {},
   "outputs": [],
   "source": [
    "# Let's see what kinds of features there are in the data set\n",
    "featureTypes = set([feature.type for feature in extractedRecord[0].features])\n",
    "print(f'Types of features: {featureTypes}')"
   ]
  },
  {
   "cell_type": "code",
   "execution_count": null,
   "id": "626bc39c",
   "metadata": {},
   "outputs": [],
   "source": [
    "# Let's focus on coding sequences (CDS) and see what information is available\n",
    "for i, feature in enumerate(extractedRecord[0].features):\n",
    "    if feature.type == 'CDS':\n",
    "        print(f\"CDS Feature {i}: {feature.qualifiers.keys()}\")"
   ]
  },
  {
   "cell_type": "code",
   "execution_count": null,
   "id": "4b4ffd82",
   "metadata": {},
   "outputs": [],
   "source": [
    "# Let's looks at the first CDS and see what each of these qualifiers are\n",
    "nFeature = 5\n",
    "for key, value in extractedRecord[0].features[nFeature].qualifiers.items():\n",
    "    print(f\"{key}: {value}\")"
   ]
  },
  {
   "cell_type": "code",
   "execution_count": null,
   "id": "34921a62",
   "metadata": {},
   "outputs": [],
   "source": [
    "# Let's also add the start site, stop site, lengths, and frame of the coding regions to our information:\n",
    "nFeature = 3\n",
    "for key, value in extractedRecord[0].features[nFeature].qualifiers.items():\n",
    "    print(f\"{key}: {value}\")\n",
    "print(f\"Start: {extractedRecord[0].features[nFeature].location.start}\")\n",
    "print(f\"Stop: {extractedRecord[0].features[nFeature].location.end}\")\n",
    "print(f\"Nt Length: {len(extractedRecord[0].features[nFeature].location)}\")\n",
    "print(f\"Frame: {extractedRecord[0].features[nFeature].location.strand}\")"
   ]
  },
  {
   "cell_type": "markdown",
   "id": "fff13358",
   "metadata": {},
   "source": [
    "## **2.6) Getting more information online**"
   ]
  },
  {
   "cell_type": "code",
   "execution_count": null,
   "id": "32b8b8f8",
   "metadata": {},
   "outputs": [],
   "source": [
    "# Let's get more information by going directly to the sequence entry on NCBI.\n",
    "sequence_link = 'https://www.ncbi.nlm.nih.gov/nuccore/' + corona_virus.annotations['accessions'][0]\n",
    "webbrowser.open_new(sequence_link)"
   ]
  },
  {
   "cell_type": "code",
   "execution_count": null,
   "id": "e5e19912",
   "metadata": {},
   "outputs": [],
   "source": [
    "# We can get even more information about the sequence by looking \n",
    "# at the original paper that described this sequence.  For this, \n",
    "# we will first need the PUBMED ID number:\n",
    "print(corona_virus.annotations['references'][0].pubmed_id)\n"
   ]
  },
  {
   "cell_type": "code",
   "execution_count": null,
   "id": "469d5888",
   "metadata": {},
   "outputs": [],
   "source": [
>>>>>>> upstream/main
    "\n",
    "# Calculate atomic composition of the protein\n",
    "atomic_composition = ProtParam.ProteinAnalysis(proteinOfInterest).get_amino_acids_percent()\n",
    "\n",
    "# Calculate molecular weight of the protein\n",
    "molecular_weight = ProtParam.ProteinAnalysis(proteinOfInterest).molecular_weight()\n",
    "\n",
<<<<<<< HEAD
    "print(f\"The Molecular weight of this protein is {molecular_weight} Daltons.\")"
=======
    "## **3.1) Find the length, number of nucleotides, dimers, and trimers in the sequence**"
   ]
  },
  {
   "cell_type": "code",
   "execution_count": null,
   "id": "f870242b",
   "metadata": {},
   "outputs": [],
   "source": [
    "# Find the length of the sequence\n",
    "covidLength = len(corona_virus.seq)  # Find the length of the sequence.\n",
    "print(f'The length of the COVID19 sequence is {covidLength} nucleotides.')"
   ]
  },
  {
   "cell_type": "code",
   "execution_count": null,
   "id": "bfbe4f1b",
   "metadata": {},
   "outputs": [],
   "source": [
    "# Let's make a pie chart of the number of each nucleotide:\n",
    "\n",
    "seq = str(corona_virus.seq)\n",
    "nucleotides = 'ATGC'\n",
    "counts = []\n",
    "for i in range(4):\n",
    "    counts.append(seq.count(nucleotides[i]))\n",
    "\n",
    "plt.figure(figsize=(2.5, 2.5), dpi=200)\n",
    "plt.pie(counts, labels=nucleotides, autopct='%1.1f%%')\n",
    "plt.title('Nucleotide Counts')\n",
    "plt.show()"
   ]
  },
  {
   "cell_type": "code",
   "execution_count": null,
   "id": "b778ffcb",
   "metadata": {},
   "outputs": [],
   "source": [
    "# Let's do the same thing, but now make a bar chart for the dimers\n",
    "nucleotides = 'ATGC'\n",
    "labels = []\n",
    "dimerDict = {}\n",
    "for i in range(4):\n",
    "    for j in range(4):\n",
    "        labels.append(nucleotides[i]+nucleotides[j])\n",
    "        dimerDict[nucleotides[i]+nucleotides[j]] = 0\n",
    "for i in range(len(corona_virus.seq)-1):\n",
    "    dimerDict[corona_virus.seq[i:i+2]] += 1\n",
    "\n",
    "# Check that the sum is correct\n",
    "print(f'the sum of the dimers is = {sum([dimerDict[i] for i in dimerDict])}')\n",
    "print(f'the length - 1 of the sequence is = {len(corona_virus.seq)-1}')  \n",
    "\n",
    "plt.figure(figsize=(5, 2.5), dpi=200)\n",
    "plt.bar(labels, [dimerDict[i] for i in dimerDict])\n",
    "plt.xticks(rotation=90)\n",
    "plt.title('Dimer Counts')\n",
    "plt.show()\n"
   ]
  },
  {
   "cell_type": "code",
   "execution_count": null,
   "id": "b1772b1f",
   "metadata": {},
   "outputs": [],
   "source": [
    "# Now let's do the same for codons (i.e., triplets of nucleotides)\n",
    "nucleotides = 'ATGC'\n",
    "labels = []\n",
    "codonDict = {}\n",
    "for i in range(4):\n",
    "    for j in range(4):\n",
    "        for k in range(4):\n",
    "            labels.append(nucleotides[i]+nucleotides[j]+nucleotides[k])\n",
    "            codonDict[nucleotides[i]+nucleotides[j]+nucleotides[k]] = 0\n",
    "for i in range(len(corona_virus.seq)-2):\n",
    "    codonDict[corona_virus.seq[i:i+3]] += 1\n",
    "\n",
    "# Check that the sum is correct\n",
    "print(f'the sum of the codons is = {sum([codonDict[i] for i in codonDict])}')\n",
    "print(f'the length - 2 of the sequence is = {len(corona_virus.seq)-2}')\n",
    "\n",
    "plt.figure(figsize=(10, 2.5), dpi=200)\n",
    "plt.bar(labels, [codonDict[i] for i in codonDict])\n",
    "plt.xticks(rotation=90)\n",
    "plt.title('Codon Counts')\n",
    "plt.show()\n"
   ]
  },
  {
   "cell_type": "markdown",
   "id": "ae6727d8-27ca-47be-aa51-45a9cd68736c",
   "metadata": {},
   "source": [
    "### **3.2) Visualizing open reading frames in the sequence**\n",
    "\n",
    "An **open reading frame** (ORF) is a sequence of DNA that can be translated into a protein. All proteins are made up of amino acids, and each amino acid is coded for by a sequence of three nucleotides in the DNA. An ORF is a sequence of DNA that starts with a **start codon** (ATG) and ends with a **stop codon** (TAA, TAG, or TGA).  \n",
    "\n",
    "Because codons are three nucleotides long, there are three possible reading frames in a DNA sequence: the first reading frame starts at the first nucleotide, the second reading frame starts at the second nucleotide, and the third reading frame starts at the third nucleotide.  It is helpful to separate ORFs into these three reading frames to help identify potential protein-coding sequences.\n",
    "\n",
    "In the next cell, we examine a sequence to find what its sequence would translate to in amino acids, and then we plot all of the open reading frames (ORFs) in each frame."
   ]
  },
  {
   "cell_type": "code",
   "execution_count": null,
   "id": "799b92f3-ef6f-4336-9d64-f0ae33df4f91",
   "metadata": {
    "tags": []
   },
   "outputs": [],
   "source": [
    "# Print the AA sequence that would be coded in a given frame\n",
    "frame = 0\n",
    "AA_frame = corona_virus[frame:].translate(to_stop=False)\n",
    "print(AA_frame.seq[1:1000])"
   ]
  },
  {
   "cell_type": "markdown",
   "id": "3f469613",
   "metadata": {},
   "source": [
    "Note that the sequence is read in the 5' to 3' direction, so the first reading frame starts at the first nucleotide, the second reading frame starts at the second nucleotide, and the third reading frame starts at the third nucleotide.\n",
    "\n",
    "Let's write a function that will search the amino acid sequence for the start and stop codons and return the open reading frames."
   ]
  },
  {
   "cell_type": "code",
   "execution_count": 51,
   "id": "a0e43cf7-1839-4f9e-984e-ae45ec632be2",
   "metadata": {
    "tags": []
   },
   "outputs": [],
   "source": [
    "# Now, let's make a plot of the open reading frames to show where they are on the sequence.\n",
    "# Function to find ORFs in all frames of a sequence\n",
    "def find_all_orfs(sequence):\n",
    "    '''Find all open reading frames in all three reading frames of a sequence\n",
    "\n",
    "    Inputs: \n",
    "        sequence (Bio.Seq) - The sequence to search for ORFs\n",
    "    Output: \n",
    "        orf_list (list) - A list of lists of tuples. Each list of tuples contains the start \n",
    "        and stop positions of ORFs in a given frame.\n",
    "    '''\n",
    "\n",
    "    orf_list = []           # List of all the ORF we find\n",
    "    for frame in range(3):  # Check each of the three reading frames\n",
    "        orfs = []           # List of ORFs for the current frame   \n",
    "        lastStop = frame    # Position of last stop codon.\n",
    "        for orf in sequence[frame:].translate(to_stop=False).split('*'):     # Translate the curent frame sequence into AA and break up by stop codons\n",
    "            if len(orf) > 30:                                                # Consider ORFs longer than 50 amino acids\n",
    "                start = lastStop + orf.find('M') * 3 if 'M' in orf else None # Update start codon position to next M, \n",
    "                stop = lastStop + (len(orf))*3 if 'M' in orf else None       # Update stop codon to next '*'\n",
    "                if start is not None and stop is not None:                   # In the coding region is >30AA\n",
    "                    orfs.append((start, stop))                                      # Append the start and stop positions for that ORF\n",
    "            lastStop += len(orf)*3 + 3           # Update the position of the last stop codon\n",
    "        orf_list.append(orfs)                    # Append the list of ORFs for the current frame\n",
    "    return orf_list"
   ]
  },
  {
   "cell_type": "markdown",
   "id": "d3479647",
   "metadata": {},
   "source": [
    "Now, let's use our ORF finding function to find the open reading frames and count the number of ORFs in each reading frame."
   ]
  },
  {
   "cell_type": "code",
   "execution_count": null,
   "id": "19a7f5c4",
   "metadata": {},
   "outputs": [],
   "source": [
    "# Find all ORFs in each frame of the sequence\n",
    "orf_positions = find_all_orfs(corona_virus.seq)\n",
    "\n",
    "for i in range(3):\n",
    "    print(f'Number of ORFs in frame {i} = {len(orf_positions[i])}')"
   ]
  },
  {
   "cell_type": "markdown",
   "id": "960379de",
   "metadata": {},
   "source": [
    "Let's plot the ORFs in each reading frame."
   ]
  },
  {
   "cell_type": "code",
   "execution_count": null,
   "id": "50a20baa",
   "metadata": {},
   "outputs": [],
   "source": [
    "# Visualize ORFs on the sequence for each frame\n",
    "plt.figure(figsize=(15, 3))\n",
    "colors = ['blue','black','purple']\n",
    "for frame, orfs in enumerate(orf_positions):\n",
    "    for start, stop in orfs:\n",
    "        plt.plot([start, stop], [frame, frame], marker='o', color=colors[frame], markersize=5)\n",
    "plt.title('Open Reading Frames in Each Frame')\n",
    "plt.xlabel('Position')\n",
    "plt.ylabel('Frame')\n",
    "plt.yticks([0, 1, 2], ['Frame 0', 'Frame 1', 'Frame 2'])\n",
    "plt.show()"
   ]
  },
  {
   "cell_type": "markdown",
   "id": "602a5a76",
   "metadata": {},
   "source": [
    "We can see that there are many ORFs in each reading frame, but most of them are very short. This is because the start and stop codons are not evenly distributed throughout the sequence, so most of the ORFs are not full-length protein-coding sequences.\n",
    "\n",
    "Let's write a function find the N longest ORF in a sequence."
   ]
  },
  {
   "cell_type": "code",
   "execution_count": 54,
   "id": "bbd94318",
   "metadata": {},
   "outputs": [],
   "source": [
    "def pickNLargestORF(orfs,N=5):\n",
    "    '''Find the N largest ORFs in a list of ORFs\n",
    "\n",
    "    Inputs: \n",
    "        orfs (list) - A list of lists of tuples. Each list of tuples contains the start \n",
    "        and stop positions of ORFs in a given frame.\n",
    "        N (int) - The number of largest ORFs to return\n",
    "\n",
    "    Output:\n",
    "        Bounds (list) - A list of the start and stop positions of the N largest ORFs\n",
    "    '''\n",
    "\n",
    "    Lengths = []\n",
    "    Bounds = []\n",
    "    Frames = []\n",
    "    for frame, orf in enumerate(orfs):\n",
    "        for start, stop in orf:\n",
    "            Lengths.append(stop-start)\n",
    "            Bounds.append([start,stop])\n",
    "            Frames.append(frame)\n",
    "    enumerated_list = list(enumerate(Lengths))\n",
    "    sortedLengths = sorted(enumerated_list, key=lambda x: abs(x[1]), reverse=True)\n",
    "    \n",
    "    # Extract lengths and bounds for those indices\n",
    "    Bounds = [Bounds[index] for index, _ in sortedLengths[:N]]\n",
    "    sortedFrames = [Frames[index] for index, _ in sortedLengths[:N]]\n",
    "    return Bounds, sortedFrames"
   ]
  },
  {
   "cell_type": "markdown",
   "id": "a009a654",
   "metadata": {},
   "source": [
    "Now let's find and plot just the 10 longest ORFs."
   ]
  },
  {
   "cell_type": "code",
   "execution_count": null,
   "id": "e1b546bc",
   "metadata": {},
   "outputs": [],
   "source": [
    "# Call our function to get the 10 longest ORFs.\n",
    "longestORFbounds, frames = pickNLargestORF(orf_positions,N=10)\n",
    "\n",
    "# Visualize the 10 longest ORFs on the sequence\n",
    "plt.figure(figsize=(15, 3))\n",
    "colors = ['blue','black','purple']\n",
    "for i, (start, stop) in enumerate(longestORFbounds):\n",
    "    plt.plot([start, stop], [frames[i], frames[i]], marker='o', color=colors[frames[i]], markersize=5)\n",
    "plt.title('Longest Open Reading Frames')\n",
    "plt.xlabel('Position')\n",
    "plt.ylabel('Frame')\n",
    "plt.yticks([0], ['Frame 0'])\n",
    "plt.show()\n"
   ]
  },
  {
   "cell_type": "markdown",
   "id": "f67fbc52",
   "metadata": {},
   "source": [
    "## **3.2) Translating the sequence into a protein sequence**\n",
    "\n",
    "Now that we have found the ORFs in the sequence, we can translate the sequence into a protein sequence. This is done by translating each codon in the DNA sequence into the corresponding amino acid.  Once we have the protein sequence, we can analyze it to find the number of each amino acid, the molecular weight of the protein, and the isoelectric point of the protein."
   ]
  },
  {
   "cell_type": "code",
   "execution_count": 56,
   "id": "5a6be391",
   "metadata": {},
   "outputs": [],
   "source": [
    "# Now let's look at the protein sequence and its properties\n",
    "# Find the start and stop for longest ORF.\n",
    "start, stop = longestORFbounds[0]\n",
    "\n",
    "# Extract the nucleotide sequence for the longest ORF\n",
    "longestORF = corona_virus.seq[start:stop]\n",
    "\n",
    "# Translate the nucleotide sequence to protein\n",
    "longestORF_AA = longestORF.translate(to_stop=True)"
   ]
  },
  {
   "cell_type": "code",
   "execution_count": null,
   "id": "59d3f4a3",
   "metadata": {},
   "outputs": [],
   "source": [
    "# Count the number of amino acids in the protein and make a bar chart of the amino acid counts.\n",
    "AAset = set(longestORF_AA)\n",
    "AAcounts = {}\n",
    "for AA in AAset:\n",
    "    AAcounts[AA] = longestORF_AA.count(AA)\n",
    "\n",
    "plt.figure(figsize=(5, 2.5), dpi=200)\n",
    "plt.bar(AAcounts.keys(), AAcounts.values())\n",
    "plt.title('Amino Acid Counts')\n",
    "plt.show()"
   ]
  },
  {
   "cell_type": "markdown",
   "id": "1d93b4fd",
   "metadata": {},
   "source": [
    "Next we are going to examine some properties of the protein sequence.  To do this, we are going to use the function ```ProteinAnalysis``` from the module ```Bio.SeqUtils.ProtParam```.  First, let's see what properties we can calculate for the protein sequence."
   ]
  },
  {
   "cell_type": "code",
   "execution_count": null,
   "id": "99305e15",
   "metadata": {},
   "outputs": [],
   "source": [
    "# List available functions in ProtParam\n",
    "protFeatures= ProtParam.ProteinAnalysis(str(longestORF_AA))\n",
    "[x for x in dir(protFeatures) if not x.startswith('_')]"
   ]
  },
  {
   "cell_type": "code",
   "execution_count": null,
   "id": "20ea47eb",
   "metadata": {},
   "outputs": [],
   "source": [
    "# Compute the molecular weight of the protein\n",
    "protFeatures= ProtParam.ProteinAnalysis(str(longestORF_AA))\n",
    "protFeatures.molecular_weight()\n",
    "print(f'The molecular weight of the protein is {protFeatures.molecular_weight()} Da.')\n",
    "\n",
    "# Compute the isoelectric point of the protein\n",
    "protFeatures.isoelectric_point()\n",
    "print(f'The isoelectric point of the protein is {protFeatures.isoelectric_point()}.')\n",
    "\n",
    "# Compute the instability index of the protein\n",
    "protFeatures.instability_index()\n",
    "print(f'The instability index of the protein is {protFeatures.instability_index()}.')"
   ]
  },
  {
   "cell_type": "markdown",
   "id": "b05b7c25",
   "metadata": {},
   "source": [
    "## 3.3) Comparing ORFs to Annotated Genes and Coding Sequences\n",
    "\n",
    "Now let's see how our ORF's correspond to the annotated genes in the genbank file that we analyzed in Section 2.5.  To do this, we are just going to show the ORFs and the annotated genes in the same plot."
   ]
  },
  {
   "cell_type": "code",
   "execution_count": null,
   "id": "3eece8fc",
   "metadata": {},
   "outputs": [],
   "source": [
    "# Let's update our figure of the ORFs to shopw both the annotated and found ORFs\n",
    "plt.figure(figsize=(15, 3))\n",
    "colors = ['blue','black','purple']\n",
    "for i, (start, stop) in enumerate(longestORFbounds):\n",
    "    plt.plot([start, stop], [frames[i], frames[i]], marker='o', color=colors[frames[i]], markersize=5)\n",
    "\n",
    "for feature in extractedRecord[0].features:\n",
    "    if feature.type == 'CDS' or feature.type == 'gene':\n",
    "        start = int(feature.location.start)\n",
    "        stop = int(feature.location.end)\n",
    "        # check which frame the feature is in\n",
    "        frame = start % 3\n",
    "        plt.plot([start, stop], [frame+0.1, frame+0.1], marker='o', color='red', markersize=5, linestyle='dashed')\n"
   ]
  },
  {
   "cell_type": "code",
   "execution_count": null,
   "id": "59a69651",
   "metadata": {},
   "outputs": [],
   "source": [
    "# Let's see if we can get a little more information about our found ORFS using the annotated \n",
    "# features.\n",
    "\n",
    "ORF_annotations = []\n",
    "for i, (start, stop) in enumerate(longestORFbounds):\n",
    "    ORF_annotation = None\n",
    "    for feature in extractedRecord[0].features:\n",
    "        if feature.type == 'CDS':\n",
    "            featureStart = int(feature.location.start)            \n",
    "            if start ==  featureStart:\n",
    "                ORF_annotation = feature.qualifiers\n",
    "                break\n",
    "    ORF_annotations.append(ORF_annotation)\n",
    "\n",
    "for i, annotation in enumerate(ORF_annotations):\n",
    "    print(f'Annotation for ORF {i}: {annotation}')"
   ]
  },
  {
   "cell_type": "code",
   "execution_count": null,
   "id": "8fc22c88",
   "metadata": {},
   "outputs": [],
   "source": [
    "# Finally, let's update our figure with the annotations\n",
    "plt.figure(figsize=(15, 3))\n",
    "colors = ['blue','black','purple']\n",
    "for i, (start, stop) in enumerate(longestORFbounds):\n",
    "    plt.plot([start, stop], [frames[i], frames[i]], marker='o', color=colors[frames[i]], markersize=5)\n",
    "    if ORF_annotations[i] is not None:\n",
    "        plt.text(start, frames[i]-0.2, f\"{ORF_annotations[i]['gene']}\", fontsize=8)\n",
    "        try:\n",
    "            plt.text(start, frames[i]-0.35, f\"{ORF_annotations[i]['product']}\", fontsize=8)\n",
    "        except:\n",
    "            pass\n",
    "        try:\n",
    "            plt.text(start, frames[i]-0.5, f\"{ORF_annotations[i]['note']}\", fontsize=8)\n",
    "        except:\n",
    "            pass\n",
    "\n",
    "for feature in extractedRecord[0].features:\n",
    "    if feature.type == 'CDS' or feature.type == 'gene':\n",
    "        start = int(feature.location.start)\n",
    "        stop = int(feature.location.end)\n",
    "        # check which frame the feature is in\n",
    "        frame = start % 3\n",
    "        plt.plot([start, stop], [frame+0.1, frame+0.1], marker='o', color='red', markersize=5, linestyle='dashed')\n",
    "\n",
    "# set y limit\n",
    "plt.ylim(-.5, 2.2)"
>>>>>>> upstream/main
   ]
  }
 ],
 "metadata": {
  "kernelspec": {
   "display_name": "BIOM480A5",
   "language": "python",
   "name": "python3"
  },
  "language_info": {
   "codemirror_mode": {
    "name": "ipython",
    "version": 3
   },
   "file_extension": ".py",
   "mimetype": "text/x-python",
   "name": "python",
   "nbconvert_exporter": "python",
   "pygments_lexer": "ipython3",
   "version": "3.10.16"
  },
  "toc": {
   "base_numbering": 1,
   "nav_menu": {},
   "number_sections": true,
   "sideBar": true,
   "skip_h1_title": false,
   "title_cell": "Table of Contents",
   "title_sidebar": "Contents",
   "toc_cell": false,
   "toc_position": {
    "height": "calc(100% - 180px)",
    "left": "10px",
    "top": "150px",
    "width": "448px"
   },
   "toc_section_display": true,
   "toc_window_display": true
  }
 },
 "nbformat": 4,
 "nbformat_minor": 5
}
