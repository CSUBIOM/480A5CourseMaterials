{
 "cells": [
  {
   "cell_type": "code",
   "execution_count": 1,
   "metadata": {},
   "outputs": [],
   "source": [
    "import sys\n",
    "import os\n",
    "# add the path ../BIOM480A5 to the system path\n",
    "sys.path.append(os.path.abspath('../BIOM480A5'))\n",
    "from BIOM480A5_Quizzes import multiple_choice_quiz\n",
    "from BIOM480A5_codes import spring2025Students, geneRegulationTopics \n",
    "\n",
    "import random"
   ]
  },
  {
   "cell_type": "markdown",
   "metadata": {},
   "source": [
    "# Types"
   ]
  },
  {
   "cell_type": "code",
   "execution_count": 2,
   "metadata": {},
   "outputs": [
    {
     "name": "stdout",
     "output_type": "stream",
     "text": [
      "What is the type of the following variable: K = 1.3 ?\n",
      "0: float\n",
      "1: list\n",
      "2: bool\n",
      "3: int\n",
      "4: dict\n",
      "5: complex\n",
      "Please enter a number between 0 and 5.\n",
      "I'm sorry, the correct answer is float\n",
      "Goodbye!\n"
     ]
    }
   ],
   "source": [
    "multiple_choice_quiz('types')"
   ]
  },
  {
   "cell_type": "markdown",
   "metadata": {},
   "source": [
    "# Slicing"
   ]
  },
  {
   "cell_type": "code",
   "execution_count": null,
   "metadata": {},
   "outputs": [],
   "source": [
    "multiple_choice_quiz('slicing')"
   ]
  },
  {
   "cell_type": "markdown",
   "metadata": {},
   "source": [
    "# Operations on Lists"
   ]
  },
  {
   "cell_type": "code",
   "execution_count": null,
   "metadata": {},
   "outputs": [],
   "source": [
    "multiple_choice_quiz('list_operations')"
   ]
  },
  {
   "cell_type": "markdown",
   "metadata": {},
   "source": [
    "# Dictionaries"
   ]
  },
  {
   "cell_type": "code",
   "execution_count": null,
   "metadata": {},
   "outputs": [],
   "source": [
    "multiple_choice_quiz('dictionary_operations')"
   ]
  },
  {
   "cell_type": "code",
   "execution_count": null,
   "metadata": {},
   "outputs": [],
   "source": [
    "# Consider the dictionary:\n",
    "Dict1 = {'a':1, 'b':2, 'c':3}\n",
    "\n",
    "# How do I fix this for loop to print the keys and values in Dict1?\n",
    "for blah in blahs:\n",
    "    print(f'The value of {blah} is {blahblah}.')"
   ]
  },
  {
   "cell_type": "markdown",
   "metadata": {},
   "source": [
    "# Strings"
   ]
  },
  {
   "cell_type": "code",
   "execution_count": null,
   "metadata": {},
   "outputs": [],
   "source": [
    "multiple_choice_quiz('string_operations')"
   ]
  },
  {
   "cell_type": "markdown",
   "metadata": {},
   "source": [
    "# Gene Regulation Assignments"
   ]
  },
  {
   "cell_type": "code",
   "execution_count": 3,
   "metadata": {},
   "outputs": [
    {
     "name": "stdout",
     "output_type": "stream",
     "text": [
      "Assignment for Spring 2025 students\n",
      "Becca B - \t Translation Initiation and Elongation - eIFs (Eukaryotic Initiation Factors): Proteins facilitating translation initiation.\n",
      "\n",
      "Ella B - \t Cellular Differentiation - Master Regulator Genes: Genes controlling cell fate determination and differentiation.\n",
      "\n",
      "Lauren B - \t Post-Translational Modification - Protein Phosphorylation: Addition of phosphate groups to proteins.\n",
      "\n",
      "James B - \t Signal Transduction and Cellular Signaling - Second Messenger Systems: Involvement of molecules like cAMP, cGMP, and calcium ions.\n",
      "\n",
      "Deven D - \t Transcription Elongation and Termination - Terminator Sequences: Signals marking the end of transcription.\n",
      "\n",
      "Jackson E - \t Cellular Localization - Nuclear Localization Signals (NLS): Sequences directing proteins to the nucleus.\n",
      "\n",
      "Delaney E - \t Protein Folding and Stability - Proteasomal Degradation: Targeted degradation of proteins by the proteasome.\n",
      "\n",
      "Lillian G - \t Translation Initiation and Elongation - Termination Factors: Proteins involved in translation termination.\n",
      "\n",
      "Andy G - \t RNA Processing and Modification - RNA Editing: Alteration of nucleotide sequence in RNA transcripts.\n",
      "\n",
      "Emma G - \t Protein Folding and Stability - Chaperone Proteins: Assist in proper protein folding.\n",
      "\n",
      "Nick G - \t Translation Initiation and Elongation - Ribosome Binding Sites: Recognition of mRNA by ribosomes.\n",
      "\n",
      "Joshua H - \t Environmental and Metabolic Regulation - Nutrient Availability: Availability of nutrients influencing gene expression.\n",
      "\n",
      "Paycen H - \t Promoter Activation and Transcription Initiation - Mediator Complex: Bridges between transcription factors and RNA polymerase.\n",
      "\n",
      "Kyle H - \t Epistasis and Genetic Interaction - Genetic Interactions: Interaction between genes influencing expression patterns.\n",
      "\n",
      "Emma H - \t Chromatin Remodeling and Epigenetic Regulation - Non-Coding RNAs (ncRNAs): Involvement of microRNAs (miRNAs) and long non-coding RNAs (lncRNAs).\n",
      "\n",
      "Elijah J - \t RNA Processing and Modification - Polyadenylation: Addition of poly-A tail to mRNA.\n",
      "\n",
      "Gabriela J - \t Feedback Regulation and Feedback Inhibition - Negative Feedback Loops: Mechanisms to dampen excessive gene expression.\n",
      "\n",
      "Addison L - \t Chromatin Remodeling and Epigenetic Regulation - DNA Methylation: Addition of methyl groups to DNA, influencing gene expression.\n",
      "\n",
      "Matthew L - \t Epistasis and Genetic Interaction - Epistasis: Gene interaction where the effect of one gene depends on the presence of another.\n",
      "\n",
      "Hassan M - \t Post-Translational Modification - Glycosylation: Addition of sugar moieties to proteins.\n",
      "\n",
      "Bella P - \t RNA Processing and Modification - RNA Splicing: Removal of introns and joining of exons.\n",
      "\n",
      "Chris R - \t Environmental and Metabolic Regulation - Metabolite Sensing: Cellular metabolite levels impacting gene regulation.\n",
      "\n",
      "Mariana S - \t Hormonal Regulation - Steroid Hormones: Influence gene expression through nuclear receptors.\n",
      "\n",
      "Dylan S - \t Stress Response - DNA Damage Response: Activation of repair mechanisms in response to DNA damage.\n",
      "\n",
      "Jacob S - \t Signal Transduction and Cellular Signaling - G-protein Coupled Receptors (GPCRs): Activation of gene expression through GPCR-mediated pathways.\n",
      "\n",
      "Hayley S - \t Promoter Activation and Transcription Initiation - Promoter Binding Proteins: Transcription factors binding to gene promoters.\n",
      "\n",
      "Kayla T - \t Signal Transduction and Cellular Signaling - Phosphorylation/Dephosphorylation: Post-translational modification of proteins to activate or deactivate signaling pathways.\n",
      "\n",
      "Fig V - \t Non-Genetic Inheritance - Transgenerational Epigenetic Inheritance: Inheritance of epigenetic marks across generations.\n",
      "\n",
      "AbbyMae W - \t mRNA Transport and Localization - mRNA Localization Signals: Sequences directing mRNA to specific cellular locations.\n",
      "\n",
      "Alvina Y - \t Promoter Activation and Transcription Initiation - Enhancers and Silencers: DNA elements influencing transcription positively (enhancers) or negatively (silencers).\n",
      "\n",
      "Polina Z - \t Transcription Elongation and Termination - Pausing and Anti-Pausing Factors: Regulation of RNA polymerase pausing and elongation.\n",
      "\n"
     ]
    }
   ],
   "source": [
    "# set rng seed for reproducibility\n",
    "random.seed(0)\n",
    "students = spring2025Students()\n",
    "topics = geneRegulationTopics()\n",
    "random.shuffle(topics)\n",
    "\n",
    "assignmentDict = {}\n",
    "for student in students:\n",
    "    assignmentDict[student] = topics.pop()\n",
    "\n",
    "print(\"Assignment for Spring 2025 students\")\n",
    "for student, topic in assignmentDict.items():\n",
    "    print(f\"{student} - \\t {topic}\\n\")\n",
    "    input(\"Press Enter to continue...\")"
   ]
  },
  {
   "cell_type": "code",
   "execution_count": null,
   "metadata": {},
   "outputs": [],
   "source": [
    "\n",
    "\n",
    "\n"
   ]
  }
 ],
 "metadata": {
  "kernelspec": {
   "display_name": "BIOM480A5",
   "language": "python",
   "name": "python3"
  },
  "language_info": {
   "codemirror_mode": {
    "name": "ipython",
    "version": 3
   },
   "file_extension": ".py",
   "mimetype": "text/x-python",
   "name": "python",
   "nbconvert_exporter": "python",
   "pygments_lexer": "ipython3",
   "version": "3.10.16"
  }
 },
 "nbformat": 4,
 "nbformat_minor": 2
}
