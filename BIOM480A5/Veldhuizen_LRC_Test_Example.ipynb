{
 "cells": [
  {
   "cell_type": "markdown",
   "metadata": {},
   "source": [
    "Description of test\n"
   ]
  },
  {
   "cell_type": "code",
   "execution_count": 1,
   "metadata": {},
   "outputs": [],
   "source": [
    "# Cell for testing \n",
    "import numpy as np\n",
    "# from BIOM480Tests import test_linear_regression_coefficient\n",
    "\n",
    "np.random.seed(42)\n",
    "X = np.random.rand(100, 1)  # Single predictor\n",
    "y = 0.5 * X.squeeze() + np.random.normal(0, 0.1, 100)  # True slope = 0.5"
   ]
  }
 ],
 "metadata": {
  "colab": {
   "provenance": [],
   "toc_visible": true
  },
  "kernelspec": {
   "display_name": "BIOM480A5",
   "language": "python",
   "name": "python3"
  },
  "language_info": {
   "codemirror_mode": {
    "name": "ipython",
    "version": 3
   },
   "file_extension": ".py",
   "mimetype": "text/x-python",
   "name": "python",
   "nbconvert_exporter": "python",
   "pygments_lexer": "ipython3",
   "version": "3.10.16"
  }
 },
 "nbformat": 4,
 "nbformat_minor": 4
}
