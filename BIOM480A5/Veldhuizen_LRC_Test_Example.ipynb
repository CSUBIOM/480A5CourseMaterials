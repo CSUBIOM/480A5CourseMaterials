{
 "cells": [
  {
   "cell_type": "markdown",
   "metadata": {},
   "source": [
    "Description of test\n"
   ]
  },
  {
   "cell_type": "code",
   "execution_count": null,
   "metadata": {},
   "outputs": [],
   "source": [
    "# Creating test functionhere for troubleshooting first \n",
    "\n",
    "def linreg(X, y, coef_index = 0): \n",
    "    \"\"\"\"\n",
    "    Performs a paired two sided t-test for a coefficient in linear regression\n",
    "    The inputs are X, y, and coef_index\n",
    "    X is a matrix of independent variables (including intercept)\n",
    "    y is a vector of dependent variables, also known as the response variable\n",
    "    coef_index is the index of the coefficient we are testing\n",
    "\n",
    "    The function returns the t-statistic and p-value for the coefficient\n",
    "    \"\"\"\n",
    "    from sklearn.linear_model import LinearRegression\n",
    "    import numpy as np\n",
    "    from scipy import stats\n",
    "\n",
    "    # Fit the linear regression model\n",
    "    model = LinearRegression().fit(X, y)\n",
    "    y_pred = model.predict(X)\n",
    "    residuals = y - y_pred\n",
    "    n = len(y)\n",
    "    p = X.shape[1]  # number of predictors (including intercept)\n",
    "    \n",
    "\n"
   ]
  },
  {
   "cell_type": "code",
   "execution_count": 1,
   "metadata": {},
   "outputs": [],
   "source": [
    "# Cell for testing \n",
    "import numpy as np\n",
    "# from BIOM480Tests import test_linear_regression_coefficient\n",
    "\n",
    "np.random.seed(42)\n",
    "X = np.random.rand(100, 1)  # Single predictor\n",
    "y = 0.5 * X.squeeze() + np.random.normal(0, 0.1, 100)  # True slope = 0.5"
   ]
  }
 ],
 "metadata": {
  "colab": {
   "provenance": [],
   "toc_visible": true
  },
  "kernelspec": {
   "display_name": "BIOM480A5",
   "language": "python",
   "name": "python3"
  },
  "language_info": {
   "codemirror_mode": {
    "name": "ipython",
    "version": 3
   },
   "file_extension": ".py",
   "mimetype": "text/x-python",
   "name": "python",
   "nbconvert_exporter": "python",
   "pygments_lexer": "ipython3",
   "version": "3.10.16"
  }
 },
 "nbformat": 4,
 "nbformat_minor": 4
}
