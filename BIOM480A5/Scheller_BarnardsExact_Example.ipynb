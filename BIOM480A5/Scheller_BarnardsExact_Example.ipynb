{
 "cells": [
  {
   "cell_type": "code",
   "execution_count": null,
   "id": "84eeb3af",
   "metadata": {},
   "outputs": [],
   "source": [
    "# Barnard’s Exact Test\n",
    "\n",
    "## **Test Description:**  \n",
    "\n",
    "Barnard’s Exact Test is a non-parametric statistical test used to determine if there is a significant association between two categorical variables in a 2x2 contingency table. Unlike Fisher’s Exact Test, which conditions on the marginal totals, Barnard’s test considers all possible 2x2 tables with the same sample size, making it *unconditional* and often more powerful.\n",
    "\n",
    "$$\n",
    "\\text{p-value} = \\sup_{p \\in [0,1]} P(T \\geq t_{\\text{obs}} \\mid p)\n",
    "$$\n",
    "\n",
    "This means Barnard’s test evaluates the null hypothesis \\( H_0 \\): that the proportions in the two rows are equal. It uses a nuisance parameter **p** (the common success probability) and maximizes the p-value over all values of:\n",
    "\n",
    "$$\n",
    "p \\in [0, 1]\n",
    "$$\n",
    "\n",
    "The p-value is defined as:\n",
    "\n",
    "$$\n",
    "\\text{p-value} = \\sup_{p \\in [0,1]} P(T \\geq t_{\\text{obs}} \\mid p)\n",
    "$$\n",
    "\n",
    "\n",
    "Where:\n",
    "\n",
    "- T is the test statistic (commonly the score statistic or likelihood ratio)  \n",
    "- t_obs is the observed value of the test statistic\n",
    "---\n",
    "\n",
    "![Barnard's Test Illustration]()\n",
    "\n",
    "*Figure:* Fisher's test conditions on fixed margins (blue zone), while Barnard's test explores a wider range of tables (gray + blue), increasing its power in detecting differences between proportions.\n",
    "\n",
    "---\n",
    "\n",
    "## **When to use Barnard’s Exact Test:**  \n",
    "A researcher might use Barnard’s Exact Test instead of Fisher’s when comparing two independent proportions, especially in small-sample scenarios where higher power is desirable. For example, in a clinical trial with two treatment groups and binary outcomes (e.g., success/failure), Barnard’s test can detect treatment effects that Fisher’s test might miss due to its conditioning on fixed margins.\n",
    "It’s particularly useful when the sample sizes are small and unbalanced, where the unconditional nature of Barnard’s test provides a stronger ability to reject the null hypothesis when a true effect exists.\n"
   ]
  },
  {
   "cell_type": "code",
   "execution_count": 5,
   "id": "21ddb96d",
   "metadata": {},
   "outputs": [
    {
     "ename": "ImportError",
     "evalue": "cannot import name 'barnard_exact' from 'BIOM480Tests' (c:\\Users\\dylan\\OneDrive\\Documents\\GitHub\\480A5CourseMaterials\\BIOM480A5\\BIOM480Tests.py)",
     "output_type": "error",
     "traceback": [
      "\u001b[1;31m---------------------------------------------------------------------------\u001b[0m",
      "\u001b[1;31mImportError\u001b[0m                               Traceback (most recent call last)",
      "Cell \u001b[1;32mIn[5], line 4\u001b[0m\n\u001b[0;32m      1\u001b[0m \u001b[38;5;66;03m# Python cell that creates some simulated data and calls the function to perform Barnard's Exact Test\u001b[39;00m\n\u001b[0;32m      2\u001b[0m \n\u001b[0;32m      3\u001b[0m \u001b[38;5;66;03m# Import the necessary function from the BIOM480Tests module\u001b[39;00m\n\u001b[1;32m----> 4\u001b[0m \u001b[38;5;28;01mfrom\u001b[39;00m \u001b[38;5;21;01mBIOM480Tests\u001b[39;00m \u001b[38;5;28;01mimport\u001b[39;00m barnard_exact\n\u001b[0;32m      6\u001b[0m \u001b[38;5;66;03m# Gives error if the function is not found\u001b[39;00m\n\u001b[0;32m      7\u001b[0m \u001b[38;5;28;01mtry\u001b[39;00m:\n",
      "\u001b[1;31mImportError\u001b[0m: cannot import name 'barnard_exact' from 'BIOM480Tests' (c:\\Users\\dylan\\OneDrive\\Documents\\GitHub\\480A5CourseMaterials\\BIOM480A5\\BIOM480Tests.py)"
     ]
    }
   ],
   "source": [
    "# Python cell that creates some simulated data and calls the function to perform Barnard's Exact Test\n",
    "\n",
    "# Import the necessary function from the BIOM480Tests module\n",
    "from BIOM480Tests import barnard_exact\n",
    "\n",
    "# Gives error if the function is not found\n",
    "try:\n",
    "    barnard_exact\n",
    "except ImportError:\n",
    "    raise ImportError(\"barnard_exact function not found in BIOM480Tests module.\")\n",
    "\n",
    "# Simulated 2x2 data: [ [Success_A, Failure_A], [Success_B, Failure_B] ]\n",
    "data = [[8, 2],\n",
    "        [3, 7]]\n",
    "\n",
    "p_val = barnard_exact(data)\n",
    "print(\"Barnard’s Exact Test p-value:\", p_val)\n"
   ]
  }
 ],
 "metadata": {
  "kernelspec": {
   "display_name": "BIOM480A5",
   "language": "python",
   "name": "python3"
  },
  "language_info": {
   "codemirror_mode": {
    "name": "ipython",
    "version": 3
   },
   "file_extension": ".py",
   "mimetype": "text/x-python",
   "name": "python",
   "nbconvert_exporter": "python",
   "pygments_lexer": "ipython3",
   "version": "3.10.16"
  }
 },
 "nbformat": 4,
 "nbformat_minor": 5
}
