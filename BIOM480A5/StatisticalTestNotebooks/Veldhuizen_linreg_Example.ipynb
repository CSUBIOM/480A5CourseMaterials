{
 "cells": [
  {
   "cell_type": "markdown",
   "metadata": {},
   "source": [
    "Description of test\n"
   ]
  },
  {
   "cell_type": "code",
   "execution_count": null,
   "metadata": {},
   "outputs": [],
   "source": [
    "# Creating test function here for troubleshooting first \n",
    "\n",
    "# def linreg(X, y, coef_index = 0): \n",
    "#     \"\"\"\"\n",
    "#     Performs a paired two sided t-test for a coefficient in linear regression\n",
    "#     The inputs are X, y, and coef_index\n",
    "#     X is a matrix of independent variables (including intercept)\n",
    "#     y is a vector of dependent variables, also known as the response variable\n",
    "#     coef_index is the index of the coefficient we are testing\n",
    "#     The coef_index begins at zero for the position element in the coefficient vector\n",
    "\n",
    "#     The function returns the t-statistic and p-value for the coefficient\n",
    "#     \"\"\"\n",
    "#     from sklearn.linear_model import LinearRegression\n",
    "#     import numpy as np\n",
    "#     from scipy import stats\n",
    "\n",
    "#     # Fit the linear regression model\n",
    "#     model = LinearRegression().fit(X, y)\n",
    "\n",
    "#     # Calculate predictions & residuals \n",
    "#     y_pred = model.predict(X)\n",
    "#     residuals = y - y_pred\n",
    "#     n = len(y)\n",
    "#     p = X.shape[1]  # number of predictors (including intercept)\n",
    "\n",
    "#     # Calculate the standard error of the coefficients \n",
    "#     sigma_sq = np.sum(residuals**2) / (n-p-1)\n",
    "#     X_w_intercept = np.hstack((np.ones((X.shape[0], 1)), X))  # Add intercept to X\n",
    "#     cov_matrix = sigma_sq * np.linalg.inv(np.dot(X_w_intercept.T, X_w_intercept))\n",
    "#     se = np.sqrt(np.diag(cov_matrix))\n",
    "\n",
    "#     # Calculate the t-statistic for the coefficient at coef_index\n",
    "#     t_stat = model.coef_[coef_index] / se[coef_index]\n",
    "#     # Calculate the p-value for the two-sided test  \n",
    "#     p_value = 2 * (1 - stats.t.cdf(np.abs(t_stat), df=n-p-1))\n",
    "\n",
    "#     return t_stat, p_value\n",
    "    \n"
   ]
  },
  {
   "cell_type": "code",
   "execution_count": 16,
   "metadata": {},
   "outputs": [
    {
     "name": "stdout",
     "output_type": "stream",
     "text": [
      "t-statistic: 17.180827998685853, p-value: 0.0\n"
     ]
    }
   ],
   "source": [
    "# Cell for testing \n",
    "import numpy as np\n",
    "# from BIOM480Tests import linreg\n",
    "\n",
    "# np.random.seed(42)\n",
    "X = np.random.rand(100, 1)  # Single predictor\n",
    "y = 0.36 * X.squeeze() + np.random.normal(0, 0.1, 100)  # True slope = 0.3\n",
    "\n",
    "# The value for true slope is chosen arbitrarily for testing purposes\n",
    "# print(X, y)\n",
    "\n",
    "t_stat_test, p_value_test = linreg(X, y, coef_index=0)\n",
    "print(f\"t-statistic: {t_stat_test}, p-value: {p_value_test}\")"
   ]
  }
 ],
 "metadata": {
  "colab": {
   "provenance": [],
   "toc_visible": true
  },
  "kernelspec": {
   "display_name": "BIOM480A5",
   "language": "python",
   "name": "python3"
  },
  "language_info": {
   "codemirror_mode": {
    "name": "ipython",
    "version": 3
   },
   "file_extension": ".py",
   "mimetype": "text/x-python",
   "name": "python",
   "nbconvert_exporter": "python",
   "pygments_lexer": "ipython3",
   "version": "3.10.16"
  }
 },
 "nbformat": 4,
 "nbformat_minor": 4
}
