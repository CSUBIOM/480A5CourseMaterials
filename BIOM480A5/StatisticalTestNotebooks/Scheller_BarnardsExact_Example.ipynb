{
 "cells": [
  {
   "cell_type": "code",
   "execution_count": null,
   "id": "84eeb3af",
   "metadata": {
    "vscode": {
     "languageId": "plaintext"
    }
   },
   "outputs": [],
   "source": [
    "# **Barnard’s Exact Test**\n",
    "\n",
    "### **Test Description:**  \n",
    "\n",
    "Barnard’s Exact Test is a non-parametric statistical test used to determine if there is a significant association between two categorical variables in a 2x2 contingency table. Unlike Fisher’s Exact Test, which conditions on the marginal totals, Barnard’s test considers all possible 2x2 tables with the same sample size, making it *unconditional* and often more powerful.\n",
    "\n",
    "$$\n",
    "\\text{p-value} = \\sup_{p \\in [0,1]} P(T \\geq t_{\\text{obs}} \\mid p)\n",
    "$$\n",
    "\n",
    "This means Barnard’s test evaluates the null hypothesis \\( H_0 \\): that the proportions in the two rows are equal. It uses a nuisance parameter **p** (the common success probability) and maximizes the p-value over all values of:\n",
    "\n",
    "$$\n",
    "p \\in [0, 1]\n",
    "$$\n",
    "\n",
    "The p-value is defined as:\n",
    "\n",
    "$$\n",
    "\\text{p-value} = \\sup_{p \\in [0,1]} P(T \\geq t_{\\text{obs}} \\mid p)\n",
    "$$\n",
    "\n",
    "\n",
    "Where:\n",
    "\n",
    "- T is the test statistic (commonly the score statistic or likelihood ratio)  \n",
    "- t_obs is the observed value of the test statistic\n",
    "---\n",
    "\n",
    "![Barnard’s test illustration](Figures/Dylan_Scheller/Barnards-exact.png)\n",
    "\n",
    "*Figure 1:* Barnards exact test - p-value based on the nuisance parameter **p**. The p-value is the maximum probability of observing a test statistic as extreme as the one observed, given the null hypothesis is true.\n",
    "\n",
    "---\n",
    "\n",
    "### **When to use Barnard’s Exact Test:**  \n",
    "A researcher might use Barnard’s Exact Test instead of Fisher’s when comparing two independent proportions, especially in small-sample scenarios where higher power is desirable. For example, in a clinical trial with two treatment groups and binary outcomes (e.g., success/failure), Barnard’s test can detect treatment effects that Fisher’s test might miss due to its conditioning on fixed margins.\n",
    "It’s particularly useful when the sample sizes are small and unbalanced, where the unconditional nature of Barnard’s test provides a stronger ability to reject the null hypothesis when a true effect exists.\n",
    "\n",
    "\n",
    "### **Resources:**\n",
    "1. Galili, T. (2010, February 7). Barnard's exact test – a powerful alternative for Fisher's exact test (implemented in R). R-statistics blog. Retrieved from https://www.r-statistics.com/2010/02/barnards-exact-test-a-powerful-alternative-for-fishers-exact-test-implemented-in-r/\n",
    "\n",
    "2. Mehta, C. R., & Senchaudhuri, P. (2003). Conditional versus unconditional exact tests for comparing two binomials. Statistics in Medicine, 22(4), 611–629."
   ]
  },
  {
   "cell_type": "code",
   "execution_count": 7,
   "id": "21ddb96d",
   "metadata": {},
   "outputs": [
    {
     "name": "stdout",
     "output_type": "stream",
     "text": [
      "Barnard’s Exact Test p-value: 0.005477494641581328\n"
     ]
    }
   ],
   "source": [
    "# Python cell that creates some simulated data and calls the function to perform Barnard's Exact Test\n",
    "\n",
    "# Import the necessary function from the BIOM480Tests module\n",
    "from BIOM480Tests import barnard_exact\n",
    "\n",
    "# Clear difference between two groups\n",
    "# Group A: 9 successes, 1 failure\n",
    "# Group B: 2 successes, 8 failures\n",
    "data = [[9, 1], [2, 8]]\n",
    "\n",
    "p_val = barnard_exact(data)\n",
    "print(\"Barnard’s Exact Test p-value:\", p_val)"
   ]
  }
 ],
 "metadata": {
  "kernelspec": {
   "display_name": "BIOM480A5",
   "language": "python",
   "name": "python3"
  },
  "language_info": {
   "codemirror_mode": {
    "name": "ipython",
    "version": 3
   },
   "file_extension": ".py",
   "mimetype": "text/x-python",
   "name": "python",
   "nbconvert_exporter": "python",
   "pygments_lexer": "ipython3",
   "version": "3.10.16"
  }
 },
 "nbformat": 4,
 "nbformat_minor": 5
}
