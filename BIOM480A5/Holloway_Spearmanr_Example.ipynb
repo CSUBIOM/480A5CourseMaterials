{
 "cells": [
  {
   "cell_type": "markdown",
   "metadata": {},
   "source": [
    "Spearman Correlation Test\n",
    "\n",
    "The Spearman correlation test uses the Spearman correlation coefficient to measure the strength and direction between two ranked variables [1]. First, data needs to be ranked, with the highest value being assigned a \"1\" and the lowest value a \"10\". With the ranked values, the Spearman correlation coefficient is calculated with the following formula:\n",
    "\n",
    "\n",
    "\n",
    "![Figure 1](https://statistics.laerd.com/statistical-guides/img/spearman-2.jpg)\n",
    "\n",
    "\n",
    "\n",
    "Figure 1: Spearman correlation coefficient equation, given no rank ties.\n",
    "\n",
    "From this formula, the Spearman correlation coefficient, r, can be between +1 and -1. +1 showcases a perfect association of ranks, and -1 showcases a perfect negative association of ranks. Spearman correlation test can evaluate the association of non-linear data and assesses monotonic relationships. \n",
    "\n",
    "\n",
    "\n",
    "\n",
    "![Figure 2](https://upload.wikimedia.org/wikipedia/commons/thumb/4/4e/Spearman_fig1.svg/450px-Spearman_fig1.svg.png)\n",
    "Figure 2: Monotonic relationship evaluated through a Spearman correlation test.\n",
    "\n",
    "The above figure represents a possible graph that can be plotted and evaluated through a Spearman correlation test. This data takes X and Y variables that aren't independent/dependent pairs but could be like two different subject test scores, ranks them, and plots the rank pairs. The above equation evaluates the pairs to determine a Spearman correlation coefficient. The Spearman correlation coefficient for this dataset is 1, which showcases a perfect positive association of the variables. This data is an example of a monotonic relationship. \n",
    "\n",
    "Sources:\n",
    "\n",
    "[1] Laerd Statistics. (2018). Spearman’s Rank-Order Correlation. Laerd Statistics. https://statistics.laerd.com/statistical-guides/spearmans-rank-order-correlation-statistical-guide.php\n",
    "\n",
    "‌[2] Wikipedia Contributors. (2019, September 7). Spearman’s rank correlation coefficient. Wikipedia; Wikimedia Foundation. https://en.wikipedia.org/wiki/Spearman%27s_rank_correlation_coefficient\n"
   ]
  },
  {
   "cell_type": "code",
   "execution_count": null,
   "metadata": {},
   "outputs": [
    {
     "ename": "AttributeError",
     "evalue": "module 'BIOM480Tests' has no attribute 'spearmanr'",
     "output_type": "error",
     "traceback": [
      "\u001b[1;31m---------------------------------------------------------------------------\u001b[0m",
      "\u001b[1;31mAttributeError\u001b[0m                            Traceback (most recent call last)",
      "Cell \u001b[1;32mIn[6], line 15\u001b[0m\n\u001b[0;32m     12\u001b[0m \u001b[38;5;66;03m# pulling the code from BIOM480Tests.py to run the example\u001b[39;00m\n\u001b[0;32m     13\u001b[0m \u001b[38;5;28;01mimport\u001b[39;00m \u001b[38;5;21;01mBIOM480Tests\u001b[39;00m \u001b[38;5;28;01mas\u001b[39;00m \u001b[38;5;21;01mtests\u001b[39;00m\n\u001b[1;32m---> 15\u001b[0m results \u001b[38;5;241m=\u001b[39m \u001b[43mtests\u001b[49m\u001b[38;5;241;43m.\u001b[39;49m\u001b[43mspearmanr\u001b[49m(x, y)\n\u001b[0;32m     16\u001b[0m \u001b[38;5;28mprint\u001b[39m(\u001b[38;5;124m\"\u001b[39m\u001b[38;5;124mSpearman\u001b[39m\u001b[38;5;124m'\u001b[39m\u001b[38;5;124ms rank correlation coefficient: \u001b[39m\u001b[38;5;124m\"\u001b[39m, results[\u001b[38;5;241m0\u001b[39m])\n\u001b[0;32m     17\u001b[0m \u001b[38;5;28mprint\u001b[39m(\u001b[38;5;124m\"\u001b[39m\u001b[38;5;124mp-value: \u001b[39m\u001b[38;5;124m\"\u001b[39m, results[\u001b[38;5;241m1\u001b[39m])\n",
      "\u001b[1;31mAttributeError\u001b[0m: module 'BIOM480Tests' has no attribute 'spearmanr'"
     ]
    }
   ],
   "source": [
    "#Example Code \n",
    "\n",
    "# Creating simulated x and y data to run the example\n",
    "import numpy as np\n",
    "import matplotlib.pyplot as plt\n",
    "import pandas as pd\n",
    "\n",
    "#random seed for reproducibility\n",
    "x = np.random.rand(1000) * 10\n",
    "y = np.random.rand(1000) * 10\n",
    "\n",
    "# pulling the code from BIOM480Tests.py to run the example\n",
    "import BIOM480Tests as tests\n",
    "\n",
    "# finding Spearman's rank correlation coefficient and p-value, remember that the function is spearmanr(x,y)\n",
    "# where x and y are the two variables you want to test\n",
    "results = tests.spearmanr(x, y)\n",
    "print(\"Spearman's rank correlation coefficient: \", results[0])\n",
    "print(\"p-value: \", results[1])\n",
    "\n",
    "\n"
   ]
  }
 ],
 "metadata": {
  "kernelspec": {
   "display_name": "BIOM480A5",
   "language": "python",
   "name": "python3"
  },
  "language_info": {
   "codemirror_mode": {
    "name": "ipython",
    "version": 3
   },
   "file_extension": ".py",
   "mimetype": "text/x-python",
   "name": "python",
   "nbconvert_exporter": "python",
   "pygments_lexer": "ipython3",
   "version": "3.10.16"
  }
 },
 "nbformat": 4,
 "nbformat_minor": 2
}
